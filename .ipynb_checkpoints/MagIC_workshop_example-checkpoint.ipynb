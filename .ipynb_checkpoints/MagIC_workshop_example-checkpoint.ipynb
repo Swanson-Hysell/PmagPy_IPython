{
 "metadata": {
  "name": "",
  "signature": "sha256:58d24d3a30436290980763841cd882209dddc0627096efa175f318bc2bfe05ce"
 },
 "nbformat": 3,
 "nbformat_minor": 0,
 "worksheets": [
  {
   "cells": [
    {
     "cell_type": "heading",
     "level": 1,
     "metadata": {},
     "source": [
      "Example notebook"
     ]
    },
    {
     "cell_type": "markdown",
     "metadata": {},
     "source": [
      "This simple example notebook accompanies a short talk given at the 2014 MagIC science and database workshop. The PDF of the slides is availible here: https://github.com/Swanson-Hysell/PmagPy_IPython/raw/master/2014_MagIC_workshop/Swanson-Hysell_MagIC2014.pdf"
     ]
    },
    {
     "cell_type": "heading",
     "level": 2,
     "metadata": {},
     "source": [
      "Import function libraries"
     ]
    },
    {
     "cell_type": "markdown",
     "metadata": {},
     "source": [
      "IPmag.py is a function library for paleomagnetic data analysis and plotting developed for interactive use within IPython notebooks. The IPmag.py library relies on the pmag.py and pmagplotlib.py libraries of the PmagPy project (https://github.com/ltauxe/PmagPy) and adds new functions and modifies stand alone PmagPy programs for use in the interactive IPython environment. The pmag.py library is included in the IPmag.py repository as a very slightly modified version from that availible in the main PmagPy repository. The version of pmag.py being used here from pmagpy-2.206."
     ]
    },
    {
     "cell_type": "code",
     "collapsed": false,
     "input": [
      "import pmag, pmagplotlib, IPmag\n",
      "import numpy as np\n",
      "import pandas as pd\n",
      "import matplotlib.pyplot as plt\n",
      "from IPython.core.display import Image \n",
      "%matplotlib inline"
     ],
     "language": "python",
     "metadata": {},
     "outputs": []
    },
    {
     "cell_type": "code",
     "collapsed": false,
     "input": [
      "Image(filename='2014_MagIC_workshop/MagIC2014.png') "
     ],
     "language": "python",
     "metadata": {},
     "outputs": []
    },
    {
     "cell_type": "heading",
     "level": 2,
     "metadata": {},
     "source": [
      "Example developing Fisher distributed data, plotting the data and comparing two data sets using a test for a common mean."
     ]
    },
    {
     "cell_type": "markdown",
     "metadata": {},
     "source": [
      "Let's start by generating a set of directions from a Fisher distribution using the `IPmag.ifishrot` function."
     ]
    },
    {
     "cell_type": "code",
     "collapsed": false,
     "input": [
      "data1 = IPmag.ifishrot(k=20,n=40,Dec=204,Inc=-42)"
     ],
     "language": "python",
     "metadata": {},
     "outputs": []
    },
    {
     "cell_type": "code",
     "collapsed": false,
     "input": [
      "data1"
     ],
     "language": "python",
     "metadata": {},
     "outputs": []
    },
    {
     "cell_type": "markdown",
     "metadata": {},
     "source": [
      "Let's use the `pmag.fisher_mean` function to calculated the Fisher statistical parameters for the data."
     ]
    },
    {
     "cell_type": "code",
     "collapsed": false,
     "input": [
      "data1_mean = pmag.fisher_mean(data1)\n",
      "data1_mean"
     ],
     "language": "python",
     "metadata": {},
     "outputs": []
    },
    {
     "cell_type": "code",
     "collapsed": false,
     "input": [
      "pmag.fisher_mean??"
     ],
     "language": "python",
     "metadata": {},
     "outputs": []
    },
    {
     "cell_type": "code",
     "collapsed": false,
     "input": [
      "fignum = 1\n",
      "plt.figure(num=fignum,figsize=(8,8),dpi=160)\n",
      "IPmag.iplotNET(fignum)\n",
      "IPmag.iplotDI(data1,color='g',label='data',legend='yes')\n",
      "IPmag.iplotDImean(data1_mean['dec'],data1_mean['inc'],data1_mean['alpha95'],\n",
      "                  color='b',marker='s',label='mean of data',legend='yes')"
     ],
     "language": "python",
     "metadata": {},
     "outputs": []
    },
    {
     "cell_type": "code",
     "collapsed": false,
     "input": [
      "data2 = IPmag.ifishrot(k=40,n=40,Dec=206,Inc=-41)"
     ],
     "language": "python",
     "metadata": {},
     "outputs": []
    },
    {
     "cell_type": "code",
     "collapsed": false,
     "input": [
      "data2_mean = pmag.fisher_mean(data2)\n",
      "data2_mean"
     ],
     "language": "python",
     "metadata": {},
     "outputs": []
    },
    {
     "cell_type": "code",
     "collapsed": false,
     "input": [
      "fignum = 1\n",
      "plt.figure(num=fignum,figsize=(8,8),dpi=160)\n",
      "IPmag.iplotNET(fignum)\n",
      "IPmag.iplotDI(data2,color='r',label='data',legend='yes')\n",
      "IPmag.iplotDImean(data2_mean['dec'],data2_mean['inc'],data2_mean['alpha95'],\n",
      "                  color='k',marker='s',label='mean of data',legend='yes')"
     ],
     "language": "python",
     "metadata": {},
     "outputs": []
    },
    {
     "cell_type": "code",
     "collapsed": false,
     "input": [
      "fignum = 1\n",
      "plt.figure(num=fignum,figsize=(8,8),dpi=160)\n",
      "IPmag.iplotNET(fignum)\n",
      "IPmag.iplotDImean(data1_mean['dec'],data1_mean['inc'],data1_mean['alpha95'],\n",
      "                  color='b',marker='s',label='mean of data',legend='yes')\n",
      "IPmag.iplotDImean(data2_mean['dec'],data2_mean['inc'],data2_mean['alpha95'],\n",
      "                  color='k',marker='s',label='mean of data',legend='yes')"
     ],
     "language": "python",
     "metadata": {},
     "outputs": []
    },
    {
     "cell_type": "code",
     "collapsed": false,
     "input": [
      "IPmag.iWatsonV(data1,data2,NumSims=5000,plot='yes')"
     ],
     "language": "python",
     "metadata": {},
     "outputs": []
    },
    {
     "cell_type": "code",
     "collapsed": false,
     "input": [
      "IPmag.iWatsonV?"
     ],
     "language": "python",
     "metadata": {},
     "outputs": []
    },
    {
     "cell_type": "heading",
     "level": 2,
     "metadata": {},
     "source": [
      "Reading data from MagIC format results files (`pmag.magic_read`)"
     ]
    },
    {
     "cell_type": "markdown",
     "metadata": {},
     "source": [
      "PmagPy has built in functions to deal with data in MagIC database format files. One such function is the `pmag.magic_read` function. In the code block below, this function is used to read in data from a `pmag_results.txt` file. The `pmag.magic_read` function creates two outputs: \n",
      "\n",
      "1. the data from the Magic template file in a list of dictionaries \n",
      "2. the type of data in the file (e.g. 'pmag_results')"
     ]
    },
    {
     "cell_type": "markdown",
     "metadata": {},
     "source": [
      "Let's look at data from:\n",
      "\n",
      "Tauxe, L., Luskin, C., Selkin, P., Gans, P. and Calvert, A. (2004). Paleomagnetic results from the Snake River Plain: Contribution to the time\u2010averaged field global database. Geochemistry Geophysics Geosystems 5: doi: 10.1029/2003GC000661. http://onlinelibrary.wiley.com/doi/10.1029/2003GC000661/\n",
      "\n",
      "Downloaded from the MagIC database:\n",
      "\n",
      "http://earthref.org/MAGIC/9207/"
     ]
    },
    {
     "cell_type": "code",
     "collapsed": false,
     "input": [
      "data,file_type=pmag.magic_read('Example_Data/pmag_results.txt')\n",
      "results = pd.DataFrame(data)\n",
      "results.average_dec = results.average_dec.astype(float)\n",
      "results.average_inc = results.average_inc.astype(float)\n",
      "results.average_alpha95 = results.average_alpha95.astype(float)\n",
      "results"
     ],
     "language": "python",
     "metadata": {},
     "outputs": []
    },
    {
     "cell_type": "markdown",
     "metadata": {},
     "source": [
      "Now that we have imported the data, we can do other things with it such as plot it using `IPmag.iplotDImean`."
     ]
    },
    {
     "cell_type": "code",
     "collapsed": false,
     "input": [
      "fignum = 1\n",
      "plt.figure(num=fignum,figsize=(6,6),dpi=160)\n",
      "IPmag.iplotNET(fignum)\n",
      "plt.title('Snake River Plain site mean equal area plot')\n",
      "for n in range(0,len(results)):\n",
      "    IPmag.iplotDImean(results['average_dec'][n],results['average_inc'][n],results['average_alpha95'][n],\n",
      "                  color='b',marker='s',label='mean of data',legend='no')"
     ],
     "language": "python",
     "metadata": {},
     "outputs": []
    },
    {
     "cell_type": "markdown",
     "metadata": {},
     "source": [
      "This notebook is availible in this Github repository: https://github.com/Swanson-Hysell/PmagPy_IPython\n",
      "\n",
      "The notebook can be viewed as raw html here: http://nbviewer.ipython.org/github/Swanson-Hysell/PmagPy_IPython/blob/master/IPmag_examples.ipynb\n",
      "\n",
      "This command can be used to to convert this notebook into a PDF document:\n",
      "\n",
      "`nbconvert --to latex MagIC_workshop_example.ipynb --post PDF`"
     ]
    },
    {
     "cell_type": "code",
     "collapsed": false,
     "input": [],
     "language": "python",
     "metadata": {},
     "outputs": []
    }
   ],
   "metadata": {}
  }
 ]
}