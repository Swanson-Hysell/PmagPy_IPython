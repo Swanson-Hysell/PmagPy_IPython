{
 "metadata": {
  "name": "",
  "signature": "sha256:5591a01ec569c2a80747c171afa93e840423965fecf89d069a7732b7accc3937"
 },
 "nbformat": 3,
 "nbformat_minor": 0,
 "worksheets": [
  {
   "cells": [
    {
     "cell_type": "heading",
     "level": 1,
     "metadata": {},
     "source": [
      "Example notebook"
     ]
    },
    {
     "cell_type": "markdown",
     "metadata": {},
     "source": [
      "This simple example notebook accompanies a short talk given at the 2014 MagIC science and database workshop. The PDF of the slides is availible here: https://github.com/Swanson-Hysell/PmagPy_IPython/blob/master/Swanson-Hysell_MagIC2014.pdf"
     ]
    },
    {
     "cell_type": "heading",
     "level": 2,
     "metadata": {},
     "source": [
      "Import function libraries"
     ]
    },
    {
     "cell_type": "markdown",
     "metadata": {},
     "source": [
      "IPmag.py is a function library for paleomagnetic data analysis and plotting developed for interactive use within IPython notebooks. The IPmag.py library relies on the pmag.py and pmagplotlib.py libraries of the PmagPy project (https://github.com/ltauxe/PmagPy) and adds new functions and modifies stand alone PmagPy programs for use in the interactive IPython environment. The pmag.py library is included in the IPmag.py repository as a very slightly modified version from that availible in the main PmagPy repository."
     ]
    },
    {
     "cell_type": "code",
     "collapsed": false,
     "input": [
      "import pmag, pmagplotlib, IPmag\n",
      "import numpy as np\n",
      "import pandas as pd\n",
      "import matplotlib.pyplot as plt\n",
      "from IPython.core.display import Image \n",
      "%matplotlib inline"
     ],
     "language": "python",
     "metadata": {},
     "outputs": []
    },
    {
     "cell_type": "code",
     "collapsed": false,
     "input": [
      "Image(filename='2014_MagIC_workshop/MagIC2014.png') "
     ],
     "language": "python",
     "metadata": {},
     "outputs": []
    },
    {
     "cell_type": "heading",
     "level": 2,
     "metadata": {},
     "source": [
      "Example taking Fisher means and plotting it using `IPmag.iplotDImean`"
     ]
    },
    {
     "cell_type": "markdown",
     "metadata": {},
     "source": [
      "Let's start by generating a set of directions from a Fisher distribution using the `IPmag.ifishrot` function."
     ]
    },
    {
     "cell_type": "code",
     "collapsed": false,
     "input": [
      "data1 = IPmag.ifishrot(k=20,n=40,Dec=204,Inc=-42)"
     ],
     "language": "python",
     "metadata": {},
     "outputs": []
    },
    {
     "cell_type": "code",
     "collapsed": false,
     "input": [
      "data1"
     ],
     "language": "python",
     "metadata": {},
     "outputs": []
    },
    {
     "cell_type": "code",
     "collapsed": false,
     "input": [
      "data1_mean = pmag.fisher_mean(data1)\n",
      "data1_mean"
     ],
     "language": "python",
     "metadata": {},
     "outputs": []
    },
    {
     "cell_type": "code",
     "collapsed": false,
     "input": [
      "pmag.fisher_mean??"
     ],
     "language": "python",
     "metadata": {},
     "outputs": []
    },
    {
     "cell_type": "code",
     "collapsed": false,
     "input": [
      "fignum = 1\n",
      "plt.figure(num=fignum,figsize=(8,8),dpi=160)\n",
      "IPmag.iplotNET(fignum)\n",
      "IPmag.iplotDI(data1,color='g',label='data',legend='yes')\n",
      "IPmag.iplotDImean(data1_mean['dec'],data1_mean['inc'],data1_mean['alpha95'],\n",
      "                  color='b',marker='s',label='mean of data',legend='yes')"
     ],
     "language": "python",
     "metadata": {},
     "outputs": []
    },
    {
     "cell_type": "code",
     "collapsed": false,
     "input": [
      "data2 = IPmag.ifishrot(k=40,n=40,Dec=206,Inc=-41)"
     ],
     "language": "python",
     "metadata": {},
     "outputs": []
    },
    {
     "cell_type": "code",
     "collapsed": false,
     "input": [
      "data2_mean = pmag.fisher_mean(data2)\n",
      "data2_mean"
     ],
     "language": "python",
     "metadata": {},
     "outputs": []
    },
    {
     "cell_type": "code",
     "collapsed": false,
     "input": [
      "fignum = 1\n",
      "plt.figure(num=fignum,figsize=(8,8),dpi=160)\n",
      "IPmag.iplotNET(fignum)\n",
      "IPmag.iplotDI(data2,color='r',label='data',legend='yes')\n",
      "IPmag.iplotDImean(data2_mean['dec'],data2_mean['inc'],data2_mean['alpha95'],\n",
      "                  color='k',marker='s',label='mean of data',legend='yes')"
     ],
     "language": "python",
     "metadata": {},
     "outputs": []
    },
    {
     "cell_type": "code",
     "collapsed": false,
     "input": [
      "fignum = 1\n",
      "plt.figure(num=fignum,figsize=(8,8),dpi=160)\n",
      "IPmag.iplotNET(fignum)\n",
      "IPmag.iplotDImean(data1_mean['dec'],data1_mean['inc'],data1_mean['alpha95'],\n",
      "                  color='b',marker='s',label='mean of data',legend='yes')\n",
      "IPmag.iplotDImean(data2_mean['dec'],data2_mean['inc'],data2_mean['alpha95'],\n",
      "                  color='k',marker='s',label='mean of data',legend='yes')"
     ],
     "language": "python",
     "metadata": {},
     "outputs": []
    },
    {
     "cell_type": "code",
     "collapsed": false,
     "input": [
      "IPmag.iWatsonV(data1,data2,NumSims=1000,plot='yes')"
     ],
     "language": "python",
     "metadata": {},
     "outputs": []
    },
    {
     "cell_type": "code",
     "collapsed": false,
     "input": [
      "IPmag.iWatsonV??"
     ],
     "language": "python",
     "metadata": {},
     "outputs": []
    },
    {
     "cell_type": "markdown",
     "metadata": {},
     "source": [
      "This notebook is availible in this Github repository: https://github.com/Swanson-Hysell/PmagPy_IPython\n",
      "\n",
      "The notebook can be viewed as raw html here: http://nbviewer.ipython.org/github/Swanson-Hysell/PmagPy_IPython/blob/master/IPmag_examples.ipynb\n",
      "\n",
      "This command can be used to to convert this notebook into a PDF document:\n",
      "\n",
      "`nbconvert --to latex MagIC_workshop_example.ipynb --post PDF`"
     ]
    },
    {
     "cell_type": "code",
     "collapsed": false,
     "input": [],
     "language": "python",
     "metadata": {},
     "outputs": []
    }
   ],
   "metadata": {}
  }
 ]
}