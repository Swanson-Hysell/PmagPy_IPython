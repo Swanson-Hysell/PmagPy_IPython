{
 "metadata": {
  "name": "",
  "signature": "sha256:648a813bb31f9cbbe028264c4ac883013f318c258216d0bc90d6890b34ff7410"
 },
 "nbformat": 3,
 "nbformat_minor": 0,
 "worksheets": []
}