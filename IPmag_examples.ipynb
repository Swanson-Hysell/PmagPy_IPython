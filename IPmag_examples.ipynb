{
 "metadata": {
  "name": "",
  "signature": "sha256:30bfabf23c2fd529f5ce338c7ac8868c3ee5204657080cb8b7cd42afd9c1a411"
 },
 "nbformat": 3,
 "nbformat_minor": 0,
 "worksheets": [
  {
   "cells": [
    {
     "cell_type": "heading",
     "level": 1,
     "metadata": {},
     "source": [
      "Documentation and examples for the IPmag.py function library"
     ]
    },
    {
     "cell_type": "markdown",
     "metadata": {},
     "source": [
      "IPmag.py is a function library for paleomagnetic data analysis and plotting developed for interactive use within IPython notebooks. The IPmag.py library relies on the pmag.py and pmagplotlib.py libraries of the PmagPy project (https://github.com/ltauxe/PmagPy) and adds new functions and modifies stand alone PmagPy programs for use in the interactive IPython environment. The pmag.py library is included in the IPmag.py repository as a very slightly modified version from that availible in the main PmagPy repository."
     ]
    },
    {
     "cell_type": "code",
     "collapsed": false,
     "input": [
      "import pmag, pmagplotlib, IPmag\n",
      "import numpy as np\n",
      "import pandas as pd\n",
      "import matplotlib.pyplot as plt\n",
      "%matplotlib inline"
     ],
     "language": "python",
     "metadata": {},
     "outputs": [],
     "prompt_number": 1
    },
    {
     "cell_type": "heading",
     "level": 1,
     "metadata": {},
     "source": [
      "Examples of pmag.py and IPmag.py functions in action"
     ]
    },
    {
     "cell_type": "heading",
     "level": 2,
     "metadata": {},
     "source": [
      "Using the dipole equation to calculate latitude from paleomagnetic inclination and expected inclination from latitude (`IPmag.inc_from_lat`; `IPmag.lat_from_inc`)"
     ]
    },
    {
     "cell_type": "markdown",
     "metadata": {},
     "source": [
      "A geocentric axial dipole magnetic field leads to a simple relationship between inclination and paleolatitude given by the dipole equation: $$\\mathrm{tan}(inclination)=2\\mathrm{tan}(latitude)$$\n",
      "\n",
      "`IPmag.inc_from_lat` and `IPmag.lat_from_inc` are simple functions that give inclination for a given latitude or latitude for a given inclination using the dipole equation."
     ]
    },
    {
     "cell_type": "markdown",
     "metadata": {},
     "source": [
      "The functions can be used interactively to give a result for a specified value. For example, what is the predicted latitude of an inclination of 45\u00ba?"
     ]
    },
    {
     "cell_type": "code",
     "collapsed": false,
     "input": [
      "IPmag.lat_from_inc(45)"
     ],
     "language": "python",
     "metadata": {},
     "outputs": [
      {
       "metadata": {},
       "output_type": "pyout",
       "prompt_number": 2,
       "text": [
        "26.56505117707799"
       ]
      }
     ],
     "prompt_number": 2
    },
    {
     "cell_type": "markdown",
     "metadata": {},
     "source": [
      "The function can also take an array of numbers as an input. In the example below, the numpy linspace function is used to create an array of paleolatitudes between 0\u00ba and 90\u00ba with 0.1\u00ba spacing. That array is than put into the `IPmag.inc_from_lat` function to return a corresponding array of inclinations predicted from those latitudes using the dipole formula. A simple plot is then generated of the paleolatitudes and corresponding inclinations for a 100% dipole field."
     ]
    },
    {
     "cell_type": "code",
     "collapsed": false,
     "input": [
      "paleolatitude=np.linspace(0,90,901)\n",
      "inclination=IPmag.inc_from_lat(paleolatitude)\n",
      "\n",
      "plt.plot(inclination,paleolatitude)\n",
      "plt.xlabel(\"inclination (degrees)\")\n",
      "plt.ylabel(\"paleolatitude (degrees)\")\n",
      "plt.title(\"Inclination as a function of latitude (100% dipole)\")\n",
      "plt.show()"
     ],
     "language": "python",
     "metadata": {},
     "outputs": [
      {
       "metadata": {},
       "output_type": "display_data",
       "png": "[encoded data removed]",
       "text": [
        "<matplotlib.figure.Figure at 0x11072d5d0>"
       ]
      }
     ],
     "prompt_number": 3
    },
    {
     "cell_type": "heading",
     "level": 2,
     "metadata": {},
     "source": [
      "Example of generating a Fisher distributed data set (`IPmag.ifishrot`) and plotting directional data on an equal area plot (`IPmag.iplotDI`)"
     ]
    },
    {
     "cell_type": "markdown",
     "metadata": {},
     "source": [
      "In order to demonstrate plotting directional data, let's use the `IPmag.ifishrot` function to generate a list of unit vectors coming from a Fisher distribution with a specified kappa. The `IPmag.ifishrot` function can take four input parameters: \n",
      "\n",
      "    k : kappa precision parameter (default is 20)\n",
      "    n : number of vectors to determine (default is 100)\n",
      "    Dec : mean declination of data set (default is 0)\n",
      "    Inc : mean inclination of data set (default is 90)"
     ]
    },
    {
     "cell_type": "code",
     "collapsed": false,
     "input": [
      "data = IPmag.ifishrot(k=20,n=20,Dec=0,Inc=90)\n",
      "print data"
     ],
     "language": "python",
     "metadata": {},
     "outputs": [
      {
       "output_type": "stream",
       "stream": "stdout",
       "text": [
        "[[118.67522546469399, 83.881168448119055, 1.0], [337.17074422551548, 76.099609190282123, 1.0], [228.0550482982882, 80.764317008599122, 1.0], [39.410784719681487, 83.987155139629095, 1.0], [183.18988150713301, 71.473944869420606, 1.0], [87.793388740469709, 51.19351803560847, 1.0], [309.54342648532577, 81.466176161643034, 1.0], [26.487950466444431, 78.937623309545799, 1.0], [180.9428804356034, 78.303338430978371, 1.0], [167.52341863555898, 76.866561681063573, 1.0], [284.05175537466175, 74.812338836077714, 1.0], [108.87850148879795, 62.614365000821465, 1.0], [146.98502481812119, 61.371962149884219, 1.0], [322.7534939377253, 84.139292677441503, 1.0], [235.95232146939816, 58.891103322838788, 1.0], [92.573613611323253, 80.979203387810301, 1.0], [70.567574482886641, 73.654690353551857, 1.0], [299.31373942547305, 78.88126596525349, 1.0], [210.58955774028092, 78.554543116190274, 1.0], [160.12299201227631, 68.689165861792802, 1.0]]\n"
       ]
      }
     ],
     "prompt_number": 4
    },
    {
     "cell_type": "markdown",
     "metadata": {},
     "source": [
      "Let's plot these data using the `IPmag.iplotDI` function. \n",
      "\n",
      "    Required Parameters\n",
      "    -----------\n",
      "    DIblock : a DIblock is comprised of a list of unit vectors [dec,inc,1.]\n",
      "\n",
      "    Optional Parameters\n",
      "    -----------\n",
      "    color : the default color is black. Other colors can be chosen (e.g. 'r')\n",
      "    marker : the default marker is a circle ('o')\n",
      "    label : the default label is blank ('')\n",
      "    legend : the default is no legend ('no'). Putting 'yes' will plot a legend.\n",
      "\n",
      "To use this function we need to first initialize a figure, use the `IPmag.iplotNET` function to generate a blank equal area plot and then use the `IPmag.iplotDI` function to plot the data on an equal area plot."
     ]
    },
    {
     "cell_type": "code",
     "collapsed": false,
     "input": [
      "fignum = 1\n",
      "plt.figure(num=fignum,figsize=(8,8),dpi=160)\n",
      "IPmag.iplotNET(fignum)\n",
      "IPmag.iplotDI(data)"
     ],
     "language": "python",
     "metadata": {},
     "outputs": [
      {
       "metadata": {},
       "output_type": "display_data",
       "png": "[encoded data removed]",
       "text": [
        "<matplotlib.figure.Figure at 0x110770690>"
       ]
      }
     ],
     "prompt_number": 5
    },
    {
     "cell_type": "heading",
     "level": 2,
     "metadata": {},
     "source": [
      "Example taking a Fisher mean and plotting it using `IPmag.iplotDImean`"
     ]
    },
    {
     "cell_type": "markdown",
     "metadata": {},
     "source": [
      "Let's use the set of directions developed above using using the `IPmag.ifishrot` function and use the `pmag.fisher_mean` function of PmagPy to calculate the Fisher mean. These data should have a mean that is approximately that specified in the call to the `IPmag.ifishrot` function above."
     ]
    },
    {
     "cell_type": "code",
     "collapsed": false,
     "input": [
      "data_mean = pmag.fisher_mean(data)\n",
      "data_mean"
     ],
     "language": "python",
     "metadata": {},
     "outputs": [
      {
       "metadata": {},
       "output_type": "pyout",
       "prompt_number": 6,
       "text": [
        "{'alpha95': 7.3458382024051119,\n",
        " 'csd': 17.795826922561005,\n",
        " 'dec': 149.00023847128989,\n",
        " 'inc': 85.321769559156508,\n",
        " 'k': 20.717325581865715,\n",
        " 'n': 20,\n",
        " 'r': 19.082893208154672}"
       ]
      }
     ],
     "prompt_number": 6
    },
    {
     "cell_type": "markdown",
     "metadata": {},
     "source": [
      "The pmag.fisher_mean function returns a dictionary that gives the parameters associated with calculating a Fisher mean. These individual values can easily be called upon as is done in the cell below."
     ]
    },
    {
     "cell_type": "code",
     "collapsed": false,
     "input": [
      "data_mean['dec']"
     ],
     "language": "python",
     "metadata": {},
     "outputs": [
      {
       "metadata": {},
       "output_type": "pyout",
       "prompt_number": 7,
       "text": [
        "149.00023847128989"
       ]
      }
     ],
     "prompt_number": 7
    },
    {
     "cell_type": "markdown",
     "metadata": {},
     "source": [
      "Let's plot this mean using the `IPmag.iplotDImean` function. \n",
      "\n",
      "    Required Parameters\n",
      "    -----------\n",
      "    Dec : declination of mean being plotted\n",
      "    Inc : inclination of mean being plotted\n",
      "    a95 : a95 confidence ellipse of mean being plotted\n",
      "\n",
      "    Optional Parameters\n",
      "    -----------\n",
      "    color : the default color is black. Other colors can be chosen (e.g. 'r')\n",
      "    marker : the default is a circle. Other symbols can be chose (e.g. 's')\n",
      "    label : the default is no label. Labels can be assigned.\n",
      "    legend : the default is no legend ('no'). Putting 'yes' will plot a legend.\n",
      "\n",
      "In addition to plotting the mean with its associated $\\alpha_{95}$ confidence ellipse, we can plot the individual vectors too using the `IPmag.iplotDI` function. Let's customize the symbology and generate a legend as well."
     ]
    },
    {
     "cell_type": "code",
     "collapsed": false,
     "input": [
      "fignum = 1\n",
      "plt.figure(num=fignum,figsize=(8,8),dpi=160)\n",
      "IPmag.iplotNET(fignum)\n",
      "IPmag.iplotDI(data,color='g',label='data',legend='yes')\n",
      "IPmag.iplotDImean(data_mean['dec'],data_mean['inc'],data_mean['alpha95'],\n",
      "                  color='b',marker='s',label='mean of data',legend='yes')"
     ],
     "language": "python",
     "metadata": {},
     "outputs": [
      {
       "metadata": {},
       "output_type": "display_data",
       "png": "[encoded data removed]",
       "text": [
        "<matplotlib.figure.Figure at 0x11077f450>"
       ]
      }
     ],
     "prompt_number": 8
    },
    {
     "cell_type": "heading",
     "level": 2,
     "metadata": {},
     "source": [
      "Sampling data from a model of secular variation (`IPmag.TK03`)"
     ]
    },
    {
     "cell_type": "markdown",
     "metadata": {},
     "source": [
      "Sometimes it is useful to generate a distribution of synthetic geomagnetic field vectors that you might expect to find from paleosecular variation of the geomagnetic field. The function tk03 generates distributions of field vectors from the PSV model of Tauxe and Kent (2004).\n",
      "\n",
      "The function can be modified with the following parameters:\n",
      "\n",
      "    Optional Parameters\n",
      "    -----------\n",
      "    n number of vectors to determine (default is 100)\n",
      "    dec mean declination of data set (default is 0)\n",
      "    lat latitude at which secular variation is simulated (default is 0)\n",
      "    rev if reversals are to be included this should be 'yes' (default is 'no')\n",
      "    G2 specify average g_2^0 fraction (default is 0)\n",
      "    G3 specify average g_3^0 fraction (default is 0)"
     ]
    },
    {
     "cell_type": "code",
     "collapsed": false,
     "input": [
      "tk03_modeled_data = IPmag.tk03(n=1000,lat=45)\n",
      "\n",
      "fignum = 1\n",
      "plt.figure(num=fignum,figsize=(8,8),dpi=200)\n",
      "pmagplotlib.plotNET(fignum)\n",
      "IPmag.iplotDI(tk03_modeled_data)"
     ],
     "language": "python",
     "metadata": {},
     "outputs": [
      {
       "metadata": {},
       "output_type": "display_data",
       "png": "[encoded data removed]",
       "text": [
        "<matplotlib.figure.Figure at 0x111c77350>"
       ]
      }
     ],
     "prompt_number": 17
    },
    {
     "cell_type": "heading",
     "level": 2,
     "metadata": {},
     "source": [
      "Tests for a common mean (`IPmag.iWatsonV` and `IPmag.iBootstrap`)"
     ]
    },
    {
     "cell_type": "code",
     "collapsed": false,
     "input": [
      "data2 = IPmag.ifishrot(k=20,n=35,Dec=204,Inc=-30)\n",
      "data2_mean = pmag.fisher_mean(data2)\n",
      "data2_mean\n",
      "\n",
      "data3 = IPmag.ifishrot(k=20,n=40,Dec=202,Inc=-20)\n",
      "data3_mean = pmag.fisher_mean(data3)\n",
      "data3_mean"
     ],
     "language": "python",
     "metadata": {},
     "outputs": [
      {
       "metadata": {},
       "output_type": "pyout",
       "prompt_number": 10,
       "text": [
        "{'alpha95': 6.0728487117570156,\n",
        " 'csd': 21.02187731812085,\n",
        " 'dec': 201.77261218668062,\n",
        " 'inc': -19.081468026131368,\n",
        " 'k': 14.846601210477013,\n",
        " 'n': 40,\n",
        " 'r': 37.373136151021669}"
       ]
      }
     ],
     "prompt_number": 10
    },
    {
     "cell_type": "code",
     "collapsed": false,
     "input": [
      "fignum = 1\n",
      "plt.figure(num=fignum,figsize=(6,6),dpi=160)\n",
      "IPmag.iplotNET(fignum)\n",
      "#IPmag.iplotDI(data2,color='g',label='data 1',legend='yes')\n",
      "#IPmag.iplotDI(data3,color='r',label='data 2',legend='yes')\n",
      "IPmag.iplotDImean(data2_mean['dec'],data2_mean['inc'],data2_mean['alpha95'],\n",
      "                  color='g',marker='s',label='mean of data 1',legend='yes')\n",
      "IPmag.iplotDImean(data3_mean['dec'],data3_mean['inc'],data3_mean['alpha95'],\n",
      "                  color='r',marker='s',label='mean of data 1',legend='yes')"
     ],
     "language": "python",
     "metadata": {},
     "outputs": [
      {
       "metadata": {},
       "output_type": "display_data",
       "png": "[encoded data removed]",
       "text": [
        "<matplotlib.figure.Figure at 0x111c4e490>"
       ]
      }
     ],
     "prompt_number": 11
    },
    {
     "cell_type": "code",
     "collapsed": false,
     "input": [
      "IPmag.iWatsonV(data2,data3,NumSims=1000)\n",
      "#IPmag.iBootstrap(data2,data3)"
     ],
     "language": "python",
     "metadata": {},
     "outputs": [
      {
       "output_type": "stream",
       "stream": "stdout",
       "text": [
        "Results of Watson V test: \n",
        "\n",
        "Watson's V:           5.1\n",
        "Critical value of V:  5.4\n",
        "\"Pass\": Since V is less than Vcrit, the null hypothesis\n",
        "that the two populations are drawn from distributions\n",
        "that share a common mean direction can not be rejected.\n",
        "\n",
        "M&M1990 classification:\n",
        "\n",
        "Angle between data set means: 7.7\n",
        "Critical angle for M&M1990:   7.9\n",
        "The McFadden and McElhinny (1990) classification for\n",
        "this test is: 'B'\n"
       ]
      }
     ],
     "prompt_number": 12
    },
    {
     "cell_type": "heading",
     "level": 2,
     "metadata": {},
     "source": [
      "Calculating and plotting virtual geomagnetic poles (`IPmag.vgpcalc`; `IPmag.vgpplot`) and mean poles (`IPmag.poleplot`)"
     ]
    },
    {
     "cell_type": "heading",
     "level": 3,
     "metadata": {},
     "source": [
      "Importing data and calculating poles using IPmag.vgpcalc"
     ]
    },
    {
     "cell_type": "markdown",
     "metadata": {},
     "source": [
      "Let's import data from a study where there is published declination, inclination data from sites of given latitude.\n",
      "\n",
      "\tAuthor = {Symons, D.T.A.},\n",
      "\tJournal = {Canadian Journal of Earth Science},\n",
      "\tPages = {1778-1783},\n",
      "\tTitle = {{Paleomagnetism of the 1.1 Ga Lackner Lake Complex and tectonics of the Kapuskasing Structural Zone}},\n",
      "\tVolume = {26},\n",
      "\tYear = {1989}}\n",
      "\n",
      "A great way to import and wrangle with data in using pandas dataframes. The code block below uses the `pd.read_csv` function to input data from a .csv files into a dataframe."
     ]
    },
    {
     "cell_type": "code",
     "collapsed": false,
     "input": [
      "Lackner_Data=pd.read_csv('Example_Data/Symons1989_Lackner_data.csv',sep=',')\n",
      "Lackner_Data "
     ],
     "language": "python",
     "metadata": {},
     "outputs": [
      {
       "html": [
        "<div style=\"max-height:1000px;max-width:1500px;overflow:auto;\">\n",
        "<table border=\"1\" class=\"dataframe\">\n",
        "  <thead>\n",
        "    <tr style=\"text-align: right;\">\n",
        "      <th></th>\n",
        "      <th>study</th>\n",
        "      <th>site</th>\n",
        "      <th>dec_tc</th>\n",
        "      <th>inc_tc</th>\n",
        "      <th>a95</th>\n",
        "      <th>n</th>\n",
        "      <th>site_lat</th>\n",
        "      <th>site_long</th>\n",
        "      <th>k</th>\n",
        "      <th>AF_demag_range(mT)</th>\n",
        "      <th>T_demag_range(C)</th>\n",
        "    </tr>\n",
        "  </thead>\n",
        "  <tbody>\n",
        "    <tr>\n",
        "      <th>0 </th>\n",
        "      <td> Symons1989a</td>\n",
        "      <td>  1</td>\n",
        "      <td> 315</td>\n",
        "      <td> 59</td>\n",
        "      <td> 10</td>\n",
        "      <td>  6</td>\n",
        "      <td> 47.8</td>\n",
        "      <td>-83.1</td>\n",
        "      <td> 46</td>\n",
        "      <td>    15-30</td>\n",
        "      <td> none listed</td>\n",
        "    </tr>\n",
        "    <tr>\n",
        "      <th>1 </th>\n",
        "      <td> Symons1989a</td>\n",
        "      <td>  2</td>\n",
        "      <td> 322</td>\n",
        "      <td> 46</td>\n",
        "      <td> 13</td>\n",
        "      <td>  9</td>\n",
        "      <td> 47.8</td>\n",
        "      <td>-83.1</td>\n",
        "      <td> 18</td>\n",
        "      <td>    15-30</td>\n",
        "      <td>         450</td>\n",
        "    </tr>\n",
        "    <tr>\n",
        "      <th>2 </th>\n",
        "      <td> Symons1989a</td>\n",
        "      <td>  3</td>\n",
        "      <td> 299</td>\n",
        "      <td> 59</td>\n",
        "      <td> 12</td>\n",
        "      <td>  7</td>\n",
        "      <td> 47.8</td>\n",
        "      <td>-83.1</td>\n",
        "      <td> 27</td>\n",
        "      <td>    15-50</td>\n",
        "      <td>         560</td>\n",
        "    </tr>\n",
        "    <tr>\n",
        "      <th>3 </th>\n",
        "      <td> Symons1989a</td>\n",
        "      <td>  4</td>\n",
        "      <td> 303</td>\n",
        "      <td> 52</td>\n",
        "      <td> 10</td>\n",
        "      <td> 10</td>\n",
        "      <td> 47.8</td>\n",
        "      <td>-83.1</td>\n",
        "      <td> 23</td>\n",
        "      <td>  22.5-50</td>\n",
        "      <td>         530</td>\n",
        "    </tr>\n",
        "    <tr>\n",
        "      <th>4 </th>\n",
        "      <td> Symons1989a</td>\n",
        "      <td>  5</td>\n",
        "      <td> 307</td>\n",
        "      <td> 55</td>\n",
        "      <td> 11</td>\n",
        "      <td> 10</td>\n",
        "      <td> 47.8</td>\n",
        "      <td>-83.1</td>\n",
        "      <td> 21</td>\n",
        "      <td>    15-60</td>\n",
        "      <td>         500</td>\n",
        "    </tr>\n",
        "    <tr>\n",
        "      <th>5 </th>\n",
        "      <td> Symons1989a</td>\n",
        "      <td>  6</td>\n",
        "      <td> 301</td>\n",
        "      <td> 75</td>\n",
        "      <td> 14</td>\n",
        "      <td>  8</td>\n",
        "      <td> 47.8</td>\n",
        "      <td>-83.1</td>\n",
        "      <td> 17</td>\n",
        "      <td>  22.5-50</td>\n",
        "      <td>     560-580</td>\n",
        "    </tr>\n",
        "    <tr>\n",
        "      <th>6 </th>\n",
        "      <td> Symons1989a</td>\n",
        "      <td>  7</td>\n",
        "      <td> 280</td>\n",
        "      <td> 65</td>\n",
        "      <td> 11</td>\n",
        "      <td>  8</td>\n",
        "      <td> 47.8</td>\n",
        "      <td>-83.1</td>\n",
        "      <td> 27</td>\n",
        "      <td>  22.5-35</td>\n",
        "      <td>         560</td>\n",
        "    </tr>\n",
        "    <tr>\n",
        "      <th>7 </th>\n",
        "      <td> Symons1989a</td>\n",
        "      <td>  8</td>\n",
        "      <td> 282</td>\n",
        "      <td> 72</td>\n",
        "      <td> 11</td>\n",
        "      <td>  6</td>\n",
        "      <td> 47.8</td>\n",
        "      <td>-83.1</td>\n",
        "      <td> 39</td>\n",
        "      <td> 22.5-130</td>\n",
        "      <td> none listed</td>\n",
        "    </tr>\n",
        "    <tr>\n",
        "      <th>8 </th>\n",
        "      <td> Symons1989a</td>\n",
        "      <td>  9</td>\n",
        "      <td> 301</td>\n",
        "      <td> 74</td>\n",
        "      <td> 11</td>\n",
        "      <td>  7</td>\n",
        "      <td> 47.8</td>\n",
        "      <td>-83.1</td>\n",
        "      <td> 31</td>\n",
        "      <td>    15-50</td>\n",
        "      <td>         560</td>\n",
        "    </tr>\n",
        "    <tr>\n",
        "      <th>9 </th>\n",
        "      <td> Symons1989a</td>\n",
        "      <td> 10</td>\n",
        "      <td> 295</td>\n",
        "      <td> 67</td>\n",
        "      <td> 12</td>\n",
        "      <td>  9</td>\n",
        "      <td> 47.8</td>\n",
        "      <td>-83.1</td>\n",
        "      <td> 21</td>\n",
        "      <td>  22.5-80</td>\n",
        "      <td>         560</td>\n",
        "    </tr>\n",
        "    <tr>\n",
        "      <th>10</th>\n",
        "      <td> Symons1989a</td>\n",
        "      <td> 11</td>\n",
        "      <td> 279</td>\n",
        "      <td> 79</td>\n",
        "      <td>  8</td>\n",
        "      <td> 10</td>\n",
        "      <td> 47.8</td>\n",
        "      <td>-83.1</td>\n",
        "      <td> 34</td>\n",
        "      <td> 22.5-130</td>\n",
        "      <td>         590</td>\n",
        "    </tr>\n",
        "    <tr>\n",
        "      <th>11</th>\n",
        "      <td> Symons1989a</td>\n",
        "      <td> 12</td>\n",
        "      <td> 312</td>\n",
        "      <td> 59</td>\n",
        "      <td> 10</td>\n",
        "      <td>  9</td>\n",
        "      <td> 47.8</td>\n",
        "      <td>-83.1</td>\n",
        "      <td> 27</td>\n",
        "      <td>  22.5-75</td>\n",
        "      <td>         560</td>\n",
        "    </tr>\n",
        "    <tr>\n",
        "      <th>12</th>\n",
        "      <td> Symons1989a</td>\n",
        "      <td> 15</td>\n",
        "      <td> 310</td>\n",
        "      <td> 65</td>\n",
        "      <td> 15</td>\n",
        "      <td> 10</td>\n",
        "      <td> 47.8</td>\n",
        "      <td>-83.1</td>\n",
        "      <td> 11</td>\n",
        "      <td>    20-30</td>\n",
        "      <td>     400-590</td>\n",
        "    </tr>\n",
        "    <tr>\n",
        "      <th>13</th>\n",
        "      <td> Symons1989a</td>\n",
        "      <td> 16</td>\n",
        "      <td> 307</td>\n",
        "      <td> 51</td>\n",
        "      <td> 15</td>\n",
        "      <td>  9</td>\n",
        "      <td> 47.8</td>\n",
        "      <td>-83.1</td>\n",
        "      <td> 14</td>\n",
        "      <td>    20-50</td>\n",
        "      <td>     300-560</td>\n",
        "    </tr>\n",
        "    <tr>\n",
        "      <th>14</th>\n",
        "      <td> Symons1989a</td>\n",
        "      <td> 17</td>\n",
        "      <td> 323</td>\n",
        "      <td> 62</td>\n",
        "      <td> 12</td>\n",
        "      <td> 10</td>\n",
        "      <td> 47.8</td>\n",
        "      <td>-83.1</td>\n",
        "      <td> 17</td>\n",
        "      <td>    20-25</td>\n",
        "      <td>     530-580</td>\n",
        "    </tr>\n",
        "    <tr>\n",
        "      <th>15</th>\n",
        "      <td> Symons1989a</td>\n",
        "      <td> 18</td>\n",
        "      <td> 322</td>\n",
        "      <td> 78</td>\n",
        "      <td>  8</td>\n",
        "      <td>  9</td>\n",
        "      <td> 47.8</td>\n",
        "      <td>-83.1</td>\n",
        "      <td> 49</td>\n",
        "      <td>    20-40</td>\n",
        "      <td>     400-560</td>\n",
        "    </tr>\n",
        "  </tbody>\n",
        "</table>\n",
        "</div>"
       ],
       "metadata": {},
       "output_type": "pyout",
       "prompt_number": 13,
       "text": [
        "          study  site  dec_tc  inc_tc  a95   n  site_lat  site_long   k  \\\n",
        "0   Symons1989a     1     315      59   10   6      47.8      -83.1  46   \n",
        "1   Symons1989a     2     322      46   13   9      47.8      -83.1  18   \n",
        "2   Symons1989a     3     299      59   12   7      47.8      -83.1  27   \n",
        "3   Symons1989a     4     303      52   10  10      47.8      -83.1  23   \n",
        "4   Symons1989a     5     307      55   11  10      47.8      -83.1  21   \n",
        "5   Symons1989a     6     301      75   14   8      47.8      -83.1  17   \n",
        "6   Symons1989a     7     280      65   11   8      47.8      -83.1  27   \n",
        "7   Symons1989a     8     282      72   11   6      47.8      -83.1  39   \n",
        "8   Symons1989a     9     301      74   11   7      47.8      -83.1  31   \n",
        "9   Symons1989a    10     295      67   12   9      47.8      -83.1  21   \n",
        "10  Symons1989a    11     279      79    8  10      47.8      -83.1  34   \n",
        "11  Symons1989a    12     312      59   10   9      47.8      -83.1  27   \n",
        "12  Symons1989a    15     310      65   15  10      47.8      -83.1  11   \n",
        "13  Symons1989a    16     307      51   15   9      47.8      -83.1  14   \n",
        "14  Symons1989a    17     323      62   12  10      47.8      -83.1  17   \n",
        "15  Symons1989a    18     322      78    8   9      47.8      -83.1  49   \n",
        "\n",
        "   AF_demag_range(mT) T_demag_range(C)  \n",
        "0               15-30      none listed  \n",
        "1               15-30              450  \n",
        "2               15-50              560  \n",
        "3             22.5-50              530  \n",
        "4               15-60              500  \n",
        "5             22.5-50          560-580  \n",
        "6             22.5-35              560  \n",
        "7            22.5-130      none listed  \n",
        "8               15-50              560  \n",
        "9             22.5-80              560  \n",
        "10           22.5-130              590  \n",
        "11            22.5-75              560  \n",
        "12              20-30          400-590  \n",
        "13              20-50          300-560  \n",
        "14              20-25          530-580  \n",
        "15              20-40          400-560  "
       ]
      }
     ],
     "prompt_number": 13
    },
    {
     "cell_type": "markdown",
     "metadata": {},
     "source": [
      "We can pass this dataframe into the IPmag.vgpcalc function to calculate the virtual geomagnetic poles implied by the directional data and the site locations. This function requires there to be columns within the dataframe with the following names: 'dec_tc', 'inc_tc', 'site_lat' and 'site_long'. They must have those exact names for the function to work as currently written. Running this function will append 5 new columns to the dataframe: 'paleolatitude', 'pole_lat', 'pole_long', 'pole_lat_rev' and 'pole_long_rev'. The paleolatitude is calculated using the dipole formula while the '_rev' pole locations are the antipode from the 'pole_lat' and 'pole_long' in order to enable flexibility in the choice of polarity "
     ]
    },
    {
     "cell_type": "code",
     "collapsed": false,
     "input": [
      "IPmag.vgpcalc(Lackner_Data)\n",
      "Lackner_Data"
     ],
     "language": "python",
     "metadata": {},
     "outputs": [
      {
       "html": [
        "<div style=\"max-height:1000px;max-width:1500px;overflow:auto;\">\n",
        "<table border=\"1\" class=\"dataframe\">\n",
        "  <thead>\n",
        "    <tr style=\"text-align: right;\">\n",
        "      <th></th>\n",
        "      <th>study</th>\n",
        "      <th>site</th>\n",
        "      <th>dec_tc</th>\n",
        "      <th>inc_tc</th>\n",
        "      <th>a95</th>\n",
        "      <th>n</th>\n",
        "      <th>site_lat</th>\n",
        "      <th>site_long</th>\n",
        "      <th>k</th>\n",
        "      <th>AF_demag_range(mT)</th>\n",
        "      <th>T_demag_range(C)</th>\n",
        "      <th>paleolatitude</th>\n",
        "      <th>vgp_lat</th>\n",
        "      <th>vgp_long</th>\n",
        "      <th>vgp_lat_rev</th>\n",
        "      <th>vgp_long_rev</th>\n",
        "    </tr>\n",
        "  </thead>\n",
        "  <tbody>\n",
        "    <tr>\n",
        "      <th>0 </th>\n",
        "      <td> Symons1989a</td>\n",
        "      <td>  1</td>\n",
        "      <td> 315</td>\n",
        "      <td> 59</td>\n",
        "      <td> 10</td>\n",
        "      <td>  6</td>\n",
        "      <td> 47.8</td>\n",
        "      <td>-83.1</td>\n",
        "      <td> 46</td>\n",
        "      <td>    15-30</td>\n",
        "      <td> none listed</td>\n",
        "      <td> 39.765187</td>\n",
        "      <td> 57.029712</td>\n",
        "      <td> 189.744793</td>\n",
        "      <td>-57.029712</td>\n",
        "      <td>   9.744793</td>\n",
        "    </tr>\n",
        "    <tr>\n",
        "      <th>1 </th>\n",
        "      <td> Symons1989a</td>\n",
        "      <td>  2</td>\n",
        "      <td> 322</td>\n",
        "      <td> 46</td>\n",
        "      <td> 13</td>\n",
        "      <td>  9</td>\n",
        "      <td> 47.8</td>\n",
        "      <td>-83.1</td>\n",
        "      <td> 18</td>\n",
        "      <td>    15-30</td>\n",
        "      <td>         450</td>\n",
        "      <td> 27.373547</td>\n",
        "      <td> 54.161247</td>\n",
        "      <td> 165.929354</td>\n",
        "      <td>-54.161247</td>\n",
        "      <td> 345.929354</td>\n",
        "    </tr>\n",
        "    <tr>\n",
        "      <th>2 </th>\n",
        "      <td> Symons1989a</td>\n",
        "      <td>  3</td>\n",
        "      <td> 299</td>\n",
        "      <td> 59</td>\n",
        "      <td> 12</td>\n",
        "      <td>  7</td>\n",
        "      <td> 47.8</td>\n",
        "      <td>-83.1</td>\n",
        "      <td> 27</td>\n",
        "      <td>    15-50</td>\n",
        "      <td>         560</td>\n",
        "      <td> 39.765187</td>\n",
        "      <td> 46.400138</td>\n",
        "      <td> 199.768970</td>\n",
        "      <td>-46.400138</td>\n",
        "      <td>  19.768970</td>\n",
        "    </tr>\n",
        "    <tr>\n",
        "      <th>3 </th>\n",
        "      <td> Symons1989a</td>\n",
        "      <td>  4</td>\n",
        "      <td> 303</td>\n",
        "      <td> 52</td>\n",
        "      <td> 10</td>\n",
        "      <td> 10</td>\n",
        "      <td> 47.8</td>\n",
        "      <td>-83.1</td>\n",
        "      <td> 23</td>\n",
        "      <td>  22.5-50</td>\n",
        "      <td>         530</td>\n",
        "      <td> 32.618057</td>\n",
        "      <td> 45.029083</td>\n",
        "      <td> 188.703698</td>\n",
        "      <td>-45.029083</td>\n",
        "      <td>   8.703698</td>\n",
        "    </tr>\n",
        "    <tr>\n",
        "      <th>4 </th>\n",
        "      <td> Symons1989a</td>\n",
        "      <td>  5</td>\n",
        "      <td> 307</td>\n",
        "      <td> 55</td>\n",
        "      <td> 11</td>\n",
        "      <td> 10</td>\n",
        "      <td> 47.8</td>\n",
        "      <td>-83.1</td>\n",
        "      <td> 21</td>\n",
        "      <td>    15-60</td>\n",
        "      <td>         500</td>\n",
        "      <td> 35.529645</td>\n",
        "      <td> 49.418849</td>\n",
        "      <td> 189.325647</td>\n",
        "      <td>-49.418849</td>\n",
        "      <td>   9.325647</td>\n",
        "    </tr>\n",
        "    <tr>\n",
        "      <th>5 </th>\n",
        "      <td> Symons1989a</td>\n",
        "      <td>  6</td>\n",
        "      <td> 301</td>\n",
        "      <td> 75</td>\n",
        "      <td> 14</td>\n",
        "      <td>  8</td>\n",
        "      <td> 47.8</td>\n",
        "      <td>-83.1</td>\n",
        "      <td> 17</td>\n",
        "      <td>  22.5-50</td>\n",
        "      <td>     560-580</td>\n",
        "      <td> 61.813215</td>\n",
        "      <td> 54.722902</td>\n",
        "      <td> 232.388351</td>\n",
        "      <td>-54.722902</td>\n",
        "      <td>  52.388351</td>\n",
        "    </tr>\n",
        "    <tr>\n",
        "      <th>6 </th>\n",
        "      <td> Symons1989a</td>\n",
        "      <td>  7</td>\n",
        "      <td> 280</td>\n",
        "      <td> 65</td>\n",
        "      <td> 11</td>\n",
        "      <td>  8</td>\n",
        "      <td> 47.8</td>\n",
        "      <td>-83.1</td>\n",
        "      <td> 27</td>\n",
        "      <td>  22.5-35</td>\n",
        "      <td>         560</td>\n",
        "      <td> 46.996928</td>\n",
        "      <td> 38.412449</td>\n",
        "      <td> 217.895005</td>\n",
        "      <td>-38.412449</td>\n",
        "      <td>  37.895005</td>\n",
        "    </tr>\n",
        "    <tr>\n",
        "      <th>7 </th>\n",
        "      <td> Symons1989a</td>\n",
        "      <td>  8</td>\n",
        "      <td> 282</td>\n",
        "      <td> 72</td>\n",
        "      <td> 11</td>\n",
        "      <td>  6</td>\n",
        "      <td> 47.8</td>\n",
        "      <td>-83.1</td>\n",
        "      <td> 39</td>\n",
        "      <td> 22.5-130</td>\n",
        "      <td> none listed</td>\n",
        "      <td> 56.982602</td>\n",
        "      <td> 44.208187</td>\n",
        "      <td> 228.865099</td>\n",
        "      <td>-44.208187</td>\n",
        "      <td>  48.865099</td>\n",
        "    </tr>\n",
        "    <tr>\n",
        "      <th>8 </th>\n",
        "      <td> Symons1989a</td>\n",
        "      <td>  9</td>\n",
        "      <td> 301</td>\n",
        "      <td> 74</td>\n",
        "      <td> 11</td>\n",
        "      <td>  7</td>\n",
        "      <td> 47.8</td>\n",
        "      <td>-83.1</td>\n",
        "      <td> 31</td>\n",
        "      <td>    15-50</td>\n",
        "      <td>         560</td>\n",
        "      <td> 60.166127</td>\n",
        "      <td> 54.561491</td>\n",
        "      <td> 229.555572</td>\n",
        "      <td>-54.561491</td>\n",
        "      <td>  49.555572</td>\n",
        "    </tr>\n",
        "    <tr>\n",
        "      <th>9 </th>\n",
        "      <td> Symons1989a</td>\n",
        "      <td> 10</td>\n",
        "      <td> 295</td>\n",
        "      <td> 67</td>\n",
        "      <td> 12</td>\n",
        "      <td>  9</td>\n",
        "      <td> 47.8</td>\n",
        "      <td>-83.1</td>\n",
        "      <td> 21</td>\n",
        "      <td>  22.5-80</td>\n",
        "      <td>         560</td>\n",
        "      <td> 49.670420</td>\n",
        "      <td> 48.457508</td>\n",
        "      <td> 214.715720</td>\n",
        "      <td>-48.457508</td>\n",
        "      <td>  34.715720</td>\n",
        "    </tr>\n",
        "    <tr>\n",
        "      <th>10</th>\n",
        "      <td> Symons1989a</td>\n",
        "      <td> 11</td>\n",
        "      <td> 279</td>\n",
        "      <td> 79</td>\n",
        "      <td>  8</td>\n",
        "      <td> 10</td>\n",
        "      <td> 47.8</td>\n",
        "      <td>-83.1</td>\n",
        "      <td> 34</td>\n",
        "      <td> 22.5-130</td>\n",
        "      <td>         590</td>\n",
        "      <td> 68.755879</td>\n",
        "      <td> 46.763993</td>\n",
        "      <td> 245.403217</td>\n",
        "      <td>-46.763993</td>\n",
        "      <td>  65.403217</td>\n",
        "    </tr>\n",
        "    <tr>\n",
        "      <th>11</th>\n",
        "      <td> Symons1989a</td>\n",
        "      <td> 12</td>\n",
        "      <td> 312</td>\n",
        "      <td> 59</td>\n",
        "      <td> 10</td>\n",
        "      <td>  9</td>\n",
        "      <td> 47.8</td>\n",
        "      <td>-83.1</td>\n",
        "      <td> 27</td>\n",
        "      <td>  22.5-75</td>\n",
        "      <td>         560</td>\n",
        "      <td> 39.765187</td>\n",
        "      <td> 55.019233</td>\n",
        "      <td> 191.766352</td>\n",
        "      <td>-55.019233</td>\n",
        "      <td>  11.766352</td>\n",
        "    </tr>\n",
        "    <tr>\n",
        "      <th>12</th>\n",
        "      <td> Symons1989a</td>\n",
        "      <td> 15</td>\n",
        "      <td> 310</td>\n",
        "      <td> 65</td>\n",
        "      <td> 15</td>\n",
        "      <td> 10</td>\n",
        "      <td> 47.8</td>\n",
        "      <td>-83.1</td>\n",
        "      <td> 11</td>\n",
        "      <td>    20-30</td>\n",
        "      <td>     400-590</td>\n",
        "      <td> 46.996928</td>\n",
        "      <td> 56.746114</td>\n",
        "      <td> 204.572758</td>\n",
        "      <td>-56.746114</td>\n",
        "      <td>  24.572758</td>\n",
        "    </tr>\n",
        "    <tr>\n",
        "      <th>13</th>\n",
        "      <td> Symons1989a</td>\n",
        "      <td> 16</td>\n",
        "      <td> 307</td>\n",
        "      <td> 51</td>\n",
        "      <td> 15</td>\n",
        "      <td>  9</td>\n",
        "      <td> 47.8</td>\n",
        "      <td>-83.1</td>\n",
        "      <td> 14</td>\n",
        "      <td>    20-50</td>\n",
        "      <td>     300-560</td>\n",
        "      <td> 31.693197</td>\n",
        "      <td> 47.152295</td>\n",
        "      <td> 184.671781</td>\n",
        "      <td>-47.152295</td>\n",
        "      <td>   4.671781</td>\n",
        "    </tr>\n",
        "    <tr>\n",
        "      <th>14</th>\n",
        "      <td> Symons1989a</td>\n",
        "      <td> 17</td>\n",
        "      <td> 323</td>\n",
        "      <td> 62</td>\n",
        "      <td> 12</td>\n",
        "      <td> 10</td>\n",
        "      <td> 47.8</td>\n",
        "      <td>-83.1</td>\n",
        "      <td> 17</td>\n",
        "      <td>    20-25</td>\n",
        "      <td>     530-580</td>\n",
        "      <td> 43.239577</td>\n",
        "      <td> 63.935141</td>\n",
        "      <td> 190.705306</td>\n",
        "      <td>-63.935141</td>\n",
        "      <td>  10.705306</td>\n",
        "    </tr>\n",
        "    <tr>\n",
        "      <th>15</th>\n",
        "      <td> Symons1989a</td>\n",
        "      <td> 18</td>\n",
        "      <td> 322</td>\n",
        "      <td> 78</td>\n",
        "      <td>  8</td>\n",
        "      <td>  9</td>\n",
        "      <td> 47.8</td>\n",
        "      <td>-83.1</td>\n",
        "      <td> 49</td>\n",
        "      <td>    20-40</td>\n",
        "      <td>     400-560</td>\n",
        "      <td> 66.969018</td>\n",
        "      <td> 62.728347</td>\n",
        "      <td> 245.187033</td>\n",
        "      <td>-62.728347</td>\n",
        "      <td>  65.187033</td>\n",
        "    </tr>\n",
        "  </tbody>\n",
        "</table>\n",
        "</div>"
       ],
       "metadata": {},
       "output_type": "pyout",
       "prompt_number": 14,
       "text": [
        "          study  site  dec_tc  inc_tc  a95   n  site_lat  site_long   k  \\\n",
        "0   Symons1989a     1     315      59   10   6      47.8      -83.1  46   \n",
        "1   Symons1989a     2     322      46   13   9      47.8      -83.1  18   \n",
        "2   Symons1989a     3     299      59   12   7      47.8      -83.1  27   \n",
        "3   Symons1989a     4     303      52   10  10      47.8      -83.1  23   \n",
        "4   Symons1989a     5     307      55   11  10      47.8      -83.1  21   \n",
        "5   Symons1989a     6     301      75   14   8      47.8      -83.1  17   \n",
        "6   Symons1989a     7     280      65   11   8      47.8      -83.1  27   \n",
        "7   Symons1989a     8     282      72   11   6      47.8      -83.1  39   \n",
        "8   Symons1989a     9     301      74   11   7      47.8      -83.1  31   \n",
        "9   Symons1989a    10     295      67   12   9      47.8      -83.1  21   \n",
        "10  Symons1989a    11     279      79    8  10      47.8      -83.1  34   \n",
        "11  Symons1989a    12     312      59   10   9      47.8      -83.1  27   \n",
        "12  Symons1989a    15     310      65   15  10      47.8      -83.1  11   \n",
        "13  Symons1989a    16     307      51   15   9      47.8      -83.1  14   \n",
        "14  Symons1989a    17     323      62   12  10      47.8      -83.1  17   \n",
        "15  Symons1989a    18     322      78    8   9      47.8      -83.1  49   \n",
        "\n",
        "   AF_demag_range(mT) T_demag_range(C)  paleolatitude    vgp_lat    vgp_long  \\\n",
        "0               15-30      none listed      39.765187  57.029712  189.744793   \n",
        "1               15-30              450      27.373547  54.161247  165.929354   \n",
        "2               15-50              560      39.765187  46.400138  199.768970   \n",
        "3             22.5-50              530      32.618057  45.029083  188.703698   \n",
        "4               15-60              500      35.529645  49.418849  189.325647   \n",
        "5             22.5-50          560-580      61.813215  54.722902  232.388351   \n",
        "6             22.5-35              560      46.996928  38.412449  217.895005   \n",
        "7            22.5-130      none listed      56.982602  44.208187  228.865099   \n",
        "8               15-50              560      60.166127  54.561491  229.555572   \n",
        "9             22.5-80              560      49.670420  48.457508  214.715720   \n",
        "10           22.5-130              590      68.755879  46.763993  245.403217   \n",
        "11            22.5-75              560      39.765187  55.019233  191.766352   \n",
        "12              20-30          400-590      46.996928  56.746114  204.572758   \n",
        "13              20-50          300-560      31.693197  47.152295  184.671781   \n",
        "14              20-25          530-580      43.239577  63.935141  190.705306   \n",
        "15              20-40          400-560      66.969018  62.728347  245.187033   \n",
        "\n",
        "    vgp_lat_rev  vgp_long_rev  \n",
        "0    -57.029712      9.744793  \n",
        "1    -54.161247    345.929354  \n",
        "2    -46.400138     19.768970  \n",
        "3    -45.029083      8.703698  \n",
        "4    -49.418849      9.325647  \n",
        "5    -54.722902     52.388351  \n",
        "6    -38.412449     37.895005  \n",
        "7    -44.208187     48.865099  \n",
        "8    -54.561491     49.555572  \n",
        "9    -48.457508     34.715720  \n",
        "10   -46.763993     65.403217  \n",
        "11   -55.019233     11.766352  \n",
        "12   -56.746114     24.572758  \n",
        "13   -47.152295      4.671781  \n",
        "14   -63.935141     10.705306  \n",
        "15   -62.728347     65.187033  "
       ]
      }
     ],
     "prompt_number": 14
    },
    {
     "cell_type": "code",
     "collapsed": false,
     "input": [
      "Lackner_VGPs=[]\n",
      "Lackner_Plong=[]\n",
      "Lackner_Plat=[]\n",
      "for n in range(0,len(Lackner_Data)): \n",
      "    Plong,Plat=Lackner_Data['pole_long'][n],Lackner_Data['pole_lat'][n]\n",
      "    Lackner_Plong.append(Plong)\n",
      "    Lackner_Plat.append(Plat)\n",
      "    Lackner_VGPs.append([Plong,Plat,1.])"
     ],
     "language": "python",
     "metadata": {},
     "outputs": [
      {
       "ename": "KeyError",
       "evalue": "'pole_long'",
       "output_type": "pyerr",
       "traceback": [
        "\u001b[0;31m---------------------------------------------------------------------------\u001b[0m\n\u001b[0;31mKeyError\u001b[0m                                  Traceback (most recent call last)",
        "\u001b[0;32m<ipython-input-15-b70f36553704>\u001b[0m in \u001b[0;36m<module>\u001b[0;34m()\u001b[0m\n\u001b[1;32m      3\u001b[0m \u001b[0mLackner_Plat\u001b[0m\u001b[0;34m=\u001b[0m\u001b[0;34m[\u001b[0m\u001b[0;34m]\u001b[0m\u001b[0;34m\u001b[0m\u001b[0m\n\u001b[1;32m      4\u001b[0m \u001b[0;32mfor\u001b[0m \u001b[0mn\u001b[0m \u001b[0;32min\u001b[0m \u001b[0mrange\u001b[0m\u001b[0;34m(\u001b[0m\u001b[0;36m0\u001b[0m\u001b[0;34m,\u001b[0m\u001b[0mlen\u001b[0m\u001b[0;34m(\u001b[0m\u001b[0mLackner_Data\u001b[0m\u001b[0;34m)\u001b[0m\u001b[0;34m)\u001b[0m\u001b[0;34m:\u001b[0m\u001b[0;34m\u001b[0m\u001b[0m\n\u001b[0;32m----> 5\u001b[0;31m     \u001b[0mPlong\u001b[0m\u001b[0;34m,\u001b[0m\u001b[0mPlat\u001b[0m\u001b[0;34m=\u001b[0m\u001b[0mLackner_Data\u001b[0m\u001b[0;34m[\u001b[0m\u001b[0;34m'pole_long'\u001b[0m\u001b[0;34m]\u001b[0m\u001b[0;34m[\u001b[0m\u001b[0mn\u001b[0m\u001b[0;34m]\u001b[0m\u001b[0;34m,\u001b[0m\u001b[0mLackner_Data\u001b[0m\u001b[0;34m[\u001b[0m\u001b[0;34m'pole_lat'\u001b[0m\u001b[0;34m]\u001b[0m\u001b[0;34m[\u001b[0m\u001b[0mn\u001b[0m\u001b[0;34m]\u001b[0m\u001b[0;34m\u001b[0m\u001b[0m\n\u001b[0m\u001b[1;32m      6\u001b[0m     \u001b[0mLackner_Plong\u001b[0m\u001b[0;34m.\u001b[0m\u001b[0mappend\u001b[0m\u001b[0;34m(\u001b[0m\u001b[0mPlong\u001b[0m\u001b[0;34m)\u001b[0m\u001b[0;34m\u001b[0m\u001b[0m\n\u001b[1;32m      7\u001b[0m     \u001b[0mLackner_Plat\u001b[0m\u001b[0;34m.\u001b[0m\u001b[0mappend\u001b[0m\u001b[0;34m(\u001b[0m\u001b[0mPlat\u001b[0m\u001b[0;34m)\u001b[0m\u001b[0;34m\u001b[0m\u001b[0m\n",
        "\u001b[0;32m/Users/polarwander/Library/Enthought/Canopy_64bit/User/lib/python2.7/site-packages/pandas/core/frame.pyc\u001b[0m in \u001b[0;36m__getitem__\u001b[0;34m(self, key)\u001b[0m\n\u001b[1;32m   1741\u001b[0m             \u001b[0;32mreturn\u001b[0m \u001b[0mself\u001b[0m\u001b[0;34m.\u001b[0m\u001b[0m_getitem_multilevel\u001b[0m\u001b[0;34m(\u001b[0m\u001b[0mkey\u001b[0m\u001b[0;34m)\u001b[0m\u001b[0;34m\u001b[0m\u001b[0m\n\u001b[1;32m   1742\u001b[0m         \u001b[0;32melse\u001b[0m\u001b[0;34m:\u001b[0m\u001b[0;34m\u001b[0m\u001b[0m\n\u001b[0;32m-> 1743\u001b[0;31m             \u001b[0;32mreturn\u001b[0m \u001b[0mself\u001b[0m\u001b[0;34m.\u001b[0m\u001b[0m_getitem_column\u001b[0m\u001b[0;34m(\u001b[0m\u001b[0mkey\u001b[0m\u001b[0;34m)\u001b[0m\u001b[0;34m\u001b[0m\u001b[0m\n\u001b[0m\u001b[1;32m   1744\u001b[0m \u001b[0;34m\u001b[0m\u001b[0m\n\u001b[1;32m   1745\u001b[0m     \u001b[0;32mdef\u001b[0m \u001b[0m_getitem_column\u001b[0m\u001b[0;34m(\u001b[0m\u001b[0mself\u001b[0m\u001b[0;34m,\u001b[0m \u001b[0mkey\u001b[0m\u001b[0;34m)\u001b[0m\u001b[0;34m:\u001b[0m\u001b[0;34m\u001b[0m\u001b[0m\n",
        "\u001b[0;32m/Users/polarwander/Library/Enthought/Canopy_64bit/User/lib/python2.7/site-packages/pandas/core/frame.pyc\u001b[0m in \u001b[0;36m_getitem_column\u001b[0;34m(self, key)\u001b[0m\n\u001b[1;32m   1748\u001b[0m         \u001b[0;31m# get column\u001b[0m\u001b[0;34m\u001b[0m\u001b[0;34m\u001b[0m\u001b[0m\n\u001b[1;32m   1749\u001b[0m         \u001b[0;32mif\u001b[0m \u001b[0mself\u001b[0m\u001b[0;34m.\u001b[0m\u001b[0mcolumns\u001b[0m\u001b[0;34m.\u001b[0m\u001b[0mis_unique\u001b[0m\u001b[0;34m:\u001b[0m\u001b[0;34m\u001b[0m\u001b[0m\n\u001b[0;32m-> 1750\u001b[0;31m             \u001b[0;32mreturn\u001b[0m \u001b[0mself\u001b[0m\u001b[0;34m.\u001b[0m\u001b[0m_get_item_cache\u001b[0m\u001b[0;34m(\u001b[0m\u001b[0mkey\u001b[0m\u001b[0;34m)\u001b[0m\u001b[0;34m\u001b[0m\u001b[0m\n\u001b[0m\u001b[1;32m   1751\u001b[0m \u001b[0;34m\u001b[0m\u001b[0m\n\u001b[1;32m   1752\u001b[0m         \u001b[0;31m# duplicate columns & possible reduce dimensionaility\u001b[0m\u001b[0;34m\u001b[0m\u001b[0;34m\u001b[0m\u001b[0m\n",
        "\u001b[0;32m/Users/polarwander/Library/Enthought/Canopy_64bit/User/lib/python2.7/site-packages/pandas/core/generic.pyc\u001b[0m in \u001b[0;36m_get_item_cache\u001b[0;34m(self, item)\u001b[0m\n\u001b[1;32m   1056\u001b[0m         \u001b[0mres\u001b[0m \u001b[0;34m=\u001b[0m \u001b[0mcache\u001b[0m\u001b[0;34m.\u001b[0m\u001b[0mget\u001b[0m\u001b[0;34m(\u001b[0m\u001b[0mitem\u001b[0m\u001b[0;34m)\u001b[0m\u001b[0;34m\u001b[0m\u001b[0m\n\u001b[1;32m   1057\u001b[0m         \u001b[0;32mif\u001b[0m \u001b[0mres\u001b[0m \u001b[0;32mis\u001b[0m \u001b[0mNone\u001b[0m\u001b[0;34m:\u001b[0m\u001b[0;34m\u001b[0m\u001b[0m\n\u001b[0;32m-> 1058\u001b[0;31m             \u001b[0mvalues\u001b[0m \u001b[0;34m=\u001b[0m \u001b[0mself\u001b[0m\u001b[0;34m.\u001b[0m\u001b[0m_data\u001b[0m\u001b[0;34m.\u001b[0m\u001b[0mget\u001b[0m\u001b[0;34m(\u001b[0m\u001b[0mitem\u001b[0m\u001b[0;34m)\u001b[0m\u001b[0;34m\u001b[0m\u001b[0m\n\u001b[0m\u001b[1;32m   1059\u001b[0m             \u001b[0mres\u001b[0m \u001b[0;34m=\u001b[0m \u001b[0mself\u001b[0m\u001b[0;34m.\u001b[0m\u001b[0m_box_item_values\u001b[0m\u001b[0;34m(\u001b[0m\u001b[0mitem\u001b[0m\u001b[0;34m,\u001b[0m \u001b[0mvalues\u001b[0m\u001b[0;34m)\u001b[0m\u001b[0;34m\u001b[0m\u001b[0m\n\u001b[1;32m   1060\u001b[0m             \u001b[0mcache\u001b[0m\u001b[0;34m[\u001b[0m\u001b[0mitem\u001b[0m\u001b[0;34m]\u001b[0m \u001b[0;34m=\u001b[0m \u001b[0mres\u001b[0m\u001b[0;34m\u001b[0m\u001b[0m\n",
        "\u001b[0;32m/Users/polarwander/Library/Enthought/Canopy_64bit/User/lib/python2.7/site-packages/pandas/core/internals.pyc\u001b[0m in \u001b[0;36mget\u001b[0;34m(self, item, fastpath)\u001b[0m\n\u001b[1;32m   2804\u001b[0m \u001b[0;34m\u001b[0m\u001b[0m\n\u001b[1;32m   2805\u001b[0m             \u001b[0;32mif\u001b[0m \u001b[0;32mnot\u001b[0m \u001b[0misnull\u001b[0m\u001b[0;34m(\u001b[0m\u001b[0mitem\u001b[0m\u001b[0;34m)\u001b[0m\u001b[0;34m:\u001b[0m\u001b[0;34m\u001b[0m\u001b[0m\n\u001b[0;32m-> 2806\u001b[0;31m                 \u001b[0mloc\u001b[0m \u001b[0;34m=\u001b[0m \u001b[0mself\u001b[0m\u001b[0;34m.\u001b[0m\u001b[0mitems\u001b[0m\u001b[0;34m.\u001b[0m\u001b[0mget_loc\u001b[0m\u001b[0;34m(\u001b[0m\u001b[0mitem\u001b[0m\u001b[0;34m)\u001b[0m\u001b[0;34m\u001b[0m\u001b[0m\n\u001b[0m\u001b[1;32m   2807\u001b[0m             \u001b[0;32melse\u001b[0m\u001b[0;34m:\u001b[0m\u001b[0;34m\u001b[0m\u001b[0m\n\u001b[1;32m   2808\u001b[0m                 \u001b[0mindexer\u001b[0m \u001b[0;34m=\u001b[0m \u001b[0mnp\u001b[0m\u001b[0;34m.\u001b[0m\u001b[0marange\u001b[0m\u001b[0;34m(\u001b[0m\u001b[0mlen\u001b[0m\u001b[0;34m(\u001b[0m\u001b[0mself\u001b[0m\u001b[0;34m.\u001b[0m\u001b[0mitems\u001b[0m\u001b[0;34m)\u001b[0m\u001b[0;34m)\u001b[0m\u001b[0;34m[\u001b[0m\u001b[0misnull\u001b[0m\u001b[0;34m(\u001b[0m\u001b[0mself\u001b[0m\u001b[0;34m.\u001b[0m\u001b[0mitems\u001b[0m\u001b[0;34m)\u001b[0m\u001b[0;34m]\u001b[0m\u001b[0;34m\u001b[0m\u001b[0m\n",
        "\u001b[0;32m/Users/polarwander/Library/Enthought/Canopy_64bit/User/lib/python2.7/site-packages/pandas/core/index.pyc\u001b[0m in \u001b[0;36mget_loc\u001b[0;34m(self, key)\u001b[0m\n\u001b[1;32m   1383\u001b[0m         \u001b[0mloc\u001b[0m \u001b[0;34m:\u001b[0m \u001b[0mint\u001b[0m \u001b[0;32mif\u001b[0m \u001b[0munique\u001b[0m \u001b[0mindex\u001b[0m\u001b[0;34m,\u001b[0m \u001b[0mpossibly\u001b[0m \u001b[0mslice\u001b[0m \u001b[0;32mor\u001b[0m \u001b[0mmask\u001b[0m \u001b[0;32mif\u001b[0m \u001b[0;32mnot\u001b[0m\u001b[0;34m\u001b[0m\u001b[0m\n\u001b[1;32m   1384\u001b[0m         \"\"\"\n\u001b[0;32m-> 1385\u001b[0;31m         \u001b[0;32mreturn\u001b[0m \u001b[0mself\u001b[0m\u001b[0;34m.\u001b[0m\u001b[0m_engine\u001b[0m\u001b[0;34m.\u001b[0m\u001b[0mget_loc\u001b[0m\u001b[0;34m(\u001b[0m\u001b[0m_values_from_object\u001b[0m\u001b[0;34m(\u001b[0m\u001b[0mkey\u001b[0m\u001b[0;34m)\u001b[0m\u001b[0;34m)\u001b[0m\u001b[0;34m\u001b[0m\u001b[0m\n\u001b[0m\u001b[1;32m   1386\u001b[0m \u001b[0;34m\u001b[0m\u001b[0m\n\u001b[1;32m   1387\u001b[0m     \u001b[0;32mdef\u001b[0m \u001b[0mget_value\u001b[0m\u001b[0;34m(\u001b[0m\u001b[0mself\u001b[0m\u001b[0;34m,\u001b[0m \u001b[0mseries\u001b[0m\u001b[0;34m,\u001b[0m \u001b[0mkey\u001b[0m\u001b[0;34m)\u001b[0m\u001b[0;34m:\u001b[0m\u001b[0;34m\u001b[0m\u001b[0m\n",
        "\u001b[0;32m/Users/polarwander/Library/Enthought/Canopy_64bit/User/lib/python2.7/site-packages/pandas/index.so\u001b[0m in \u001b[0;36mpandas.index.IndexEngine.get_loc (pandas/index.c:3795)\u001b[0;34m()\u001b[0m\n",
        "\u001b[0;32m/Users/polarwander/Library/Enthought/Canopy_64bit/User/lib/python2.7/site-packages/pandas/index.so\u001b[0m in \u001b[0;36mpandas.index.IndexEngine.get_loc (pandas/index.c:3675)\u001b[0;34m()\u001b[0m\n",
        "\u001b[0;32m/Users/polarwander/Library/Enthought/Canopy_64bit/User/lib/python2.7/site-packages/pandas/hashtable.so\u001b[0m in \u001b[0;36mpandas.hashtable.PyObjectHashTable.get_item (pandas/hashtable.c:12299)\u001b[0;34m()\u001b[0m\n",
        "\u001b[0;32m/Users/polarwander/Library/Enthought/Canopy_64bit/User/lib/python2.7/site-packages/pandas/hashtable.so\u001b[0m in \u001b[0;36mpandas.hashtable.PyObjectHashTable.get_item (pandas/hashtable.c:12250)\u001b[0;34m()\u001b[0m\n",
        "\u001b[0;31mKeyError\u001b[0m: 'pole_long'"
       ]
      }
     ],
     "prompt_number": 15
    },
    {
     "cell_type": "heading",
     "level": 3,
     "metadata": {},
     "source": [
      "Plotting virtual geomagnetic and mean poles"
     ]
    },
    {
     "cell_type": "markdown",
     "metadata": {},
     "source": [
      "To plot poles we first need a map projection. The matplotlib basemap package does a nice job of that, so let's import it:"
     ]
    },
    {
     "cell_type": "code",
     "collapsed": false,
     "input": [
      "from mpl_toolkits.basemap import Basemap"
     ],
     "language": "python",
     "metadata": {},
     "outputs": []
    },
    {
     "cell_type": "markdown",
     "metadata": {},
     "source": [
      "The basemap is highly customizable. A view from space type projection ('ortho') looks nice so let's use that one for this example. We will define an object ('m') that is a map projection and then draw additional things on the map such as continents and lat/long lines. Then let's extract the pole latitudes and pole longitudes from the Lackner data as lists and plot those using the `IPmag.vgpplot` function.\n",
      "\n",
      "    Required Parameters\n",
      "    -----------\n",
      "    mapname : the name of the current map that has been developed using basemap\n",
      "    plong : the longitude of the paleomagnetic pole being plotted (in degrees E)\n",
      "    plat : the latitude of the paleomagnetic pole being plotted (in degrees)\n",
      "\n",
      "    Optional Parameters\n",
      "    -----------\n",
      "    color : the color desired for the symbol and its A95 ellipse (default is 'k' aka black)\n",
      "    marker : the marker shape desired for the pole mean symbol (default is 'o' aka a circle)\n",
      "    label : the default is no label. Labels can be assigned.\n",
      "    legend : the default is no legend ('no'). Putting 'yes' will plot a legend."
     ]
    },
    {
     "cell_type": "code",
     "collapsed": false,
     "input": [
      "plt.figure(figsize=(8, 8))\n",
      "m = Basemap(projection='ortho',lat_0=35,lon_0=200,resolution='c',area_thresh=50000)\n",
      "m.drawcoastlines(linewidth=0.25)\n",
      "m.fillcontinents(color='bisque',lake_color='white',zorder=1)\n",
      "m.drawmapboundary(fill_color='white')\n",
      "m.drawmeridians(np.arange(0,360,30))\n",
      "m.drawparallels(np.arange(-90,90,30))\n",
      "\n",
      "Lackner_Plat = Lackner_Data['pole_lat'].tolist()\n",
      "Lackner_Plong = Lackner_Data['pole_long'].tolist()\n",
      "\n",
      "IPmag.vgpplot(m,Lackner_Plong,Lackner_Plat)\n",
      "plt.show()"
     ],
     "language": "python",
     "metadata": {},
     "outputs": []
    },
    {
     "cell_type": "heading",
     "level": 3,
     "metadata": {},
     "source": [
      "Calculate and plot mean pole"
     ]
    },
    {
     "cell_type": "markdown",
     "metadata": {},
     "source": [
      "Creating a list of unit vectors allows for the Fisher mean to be calculated for the VGPs."
     ]
    },
    {
     "cell_type": "code",
     "collapsed": false,
     "input": [
      "Lackner_VGPs=[]\n",
      "for n in range(0,len(Lackner_Data)): \n",
      "    Plong,Plat=Lackner_Data['pole_long'][n],Lackner_Data['pole_lat'][n]\n",
      "    Lackner_VGPs.append([Plong,Plat,1.])\n",
      "    \n",
      "Lackner_mean_pole=pmag.fisher_mean(Lackner_VGPs)"
     ],
     "language": "python",
     "metadata": {},
     "outputs": []
    },
    {
     "cell_type": "markdown",
     "metadata": {},
     "source": [
      "The `print` command can be used to print the mean parameters to the console. Note that the dictionary created by the `pmag.fisher_mean` command has default notation for directions rather than poles. In this case, `dec` in the dictionary is actually paleolongitude while `inc` is paleolatitude."
     ]
    },
    {
     "cell_type": "code",
     "collapsed": false,
     "input": [
      "print 'The Fisher mean parameters for the pole are: '\n",
      "print 'Plong = ' + str(Lackner_mean_pole['dec']) + ' Plat = ' + str(Lackner_mean_pole['inc'])\n",
      "print 'A95 = ' + str(Lackner_mean_pole['alpha95']) + ' k= ' + str(Lackner_mean_pole['k'])"
     ],
     "language": "python",
     "metadata": {},
     "outputs": []
    },
    {
     "cell_type": "markdown",
     "metadata": {},
     "source": [
      "Now that the mean pole is calculated, it can be plotted using the `IPmag.poleplot` function. First, the same basemap as before will be created. After the basemap is created, the `IPmag.poleplot` function will be called.\n",
      "\n",
      "    Required Parameters\n",
      "    -----------\n",
      "    mapname : the name of the current map that has been developed using basemap\n",
      "    plong : the longitude of the paleomagnetic pole being plotted (in degrees E)\n",
      "    plat : the latitude of the paleomagnetic pole being plotted (in degrees)\n",
      "    A95 : the A_95 confidence ellipse of the paleomagnetic pole (in degrees)\n",
      "    \n",
      "    Optional Parameters\n",
      "    -----------\n",
      "    label : a string that is the label for the paleomagnetic pole being plotted\n",
      "    color : the color desired for the symbol and its A95 ellipse (default is 'k' aka black)\n",
      "    marker : the marker shape desired for the pole mean symbol (default is 'o' aka a circle)\n",
      "    legend : the default is no legend ('no'). Putting 'yes' will plot a legend."
     ]
    },
    {
     "cell_type": "code",
     "collapsed": false,
     "input": [
      "plt.figure(figsize=(8, 8))\n",
      "m = Basemap(projection='ortho',lat_0=35,lon_0=200,resolution='c',area_thresh=50000)\n",
      "m.drawcoastlines(linewidth=0.25)\n",
      "m.fillcontinents(color='bisque',lake_color='white',zorder=1)\n",
      "m.drawmapboundary(fill_color='white')\n",
      "m.drawmeridians(np.arange(0,360,30))\n",
      "m.drawparallels(np.arange(-90,90,30))\n",
      "\n",
      "IPmag.poleplot(m,Lackner_mean_pole['dec'],Lackner_mean_pole['inc'],\n",
      "               Lackner_mean_pole['alpha95'],label='Lackner mean pole',legend='yes')"
     ],
     "language": "python",
     "metadata": {},
     "outputs": []
    },
    {
     "cell_type": "heading",
     "level": 2,
     "metadata": {},
     "source": [
      "Conducting tests for a common mean using the bootstrap test (`IPmag.iBootstrap`) and the Watson V test (`IPmag.iWatsonV`)"
     ]
    },
    {
     "cell_type": "code",
     "collapsed": false,
     "input": [
      "#IPmag.iBootstrap\n",
      "#IPmag.iWatsonV"
     ],
     "language": "python",
     "metadata": {},
     "outputs": []
    },
    {
     "cell_type": "heading",
     "level": 2,
     "metadata": {},
     "source": [
      "Reading data from MagIC format results files (`pmag.magic_read`)"
     ]
    },
    {
     "cell_type": "markdown",
     "metadata": {},
     "source": [
      "PmagPy has built in functions to deal with data in MagIC database format files. One such function is the `pmag.magic_read` function. In the code block below, this function is used to read in data from a `pmag_results.txt` file. The `pmag.magic_read` function creates two outputs: \n",
      "\n",
      "1. the data from the Magic template file in a list of dictionaries \n",
      "2. the type of data in the file (e.g. 'pmag_results')"
     ]
    },
    {
     "cell_type": "code",
     "collapsed": false,
     "input": [
      "data,file_type=pmag.magic_read('Example_Data/pmag_results.txt')\n",
      "data"
     ],
     "language": "python",
     "metadata": {},
     "outputs": []
    },
    {
     "cell_type": "markdown",
     "metadata": {},
     "source": [
      "Lists of dictionaries can be easily turned into a pandas dataframe simply by using the `pd.DataFrame`"
     ]
    },
    {
     "cell_type": "code",
     "collapsed": false,
     "input": [
      "results = pd.DataFrame(data)\n",
      "#for some reason that data are all strings rather than floats\n",
      "#at the moment these columns can be converted to floats\n",
      "results.average_dec = results.average_dec.astype(float)\n",
      "results.average_inc = results.average_inc.astype(float)\n",
      "results.average_alpha95 = results.average_alpha95.astype(float)\n",
      "results"
     ],
     "language": "python",
     "metadata": {},
     "outputs": []
    },
    {
     "cell_type": "markdown",
     "metadata": {},
     "source": [
      "Now that we have imported the data, we can do other things with it such as plot it using `IPmag.iplotDImean`."
     ]
    },
    {
     "cell_type": "code",
     "collapsed": false,
     "input": [
      "fignum = 1\n",
      "plt.figure(num=fignum,figsize=(6,6),dpi=160)\n",
      "IPmag.iplotNET(fignum)\n",
      "for n in range(0,len(results)):\n",
      "    IPmag.iplotDImean(results['average_dec'][n],results['average_inc'][n],results['average_alpha95'][n],\n",
      "                  color='b',marker='s',label='mean of data',legend='no')"
     ],
     "language": "python",
     "metadata": {},
     "outputs": []
    },
    {
     "cell_type": "code",
     "collapsed": false,
     "input": [],
     "language": "python",
     "metadata": {},
     "outputs": []
    }
   ],
   "metadata": {}
  }
 ]
}