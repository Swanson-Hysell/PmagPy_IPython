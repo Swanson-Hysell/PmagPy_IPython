{
 "metadata": {
  "name": "",
  "signature": "sha256:91e86b26bdffbfaf4fb084b65f80ca43295530daa363f09e38daa5a06958004c"
 },
 "nbformat": 3,
 "nbformat_minor": 0,
 "worksheets": [
  {
   "cells": [
    {
     "cell_type": "heading",
     "level": 1,
     "metadata": {},
     "source": [
      "Documentation and examples for the IPmag.py function library"
     ]
    },
    {
     "cell_type": "markdown",
     "metadata": {},
     "source": [
      "IPmag.py is a function library for paleomagnetic data analysis and plotting developed for interactive use within IPython notebooks. The IPmag.py library relies on the pmag.py and pmagplotlib.py libraries of the PmagPy project (https://github.com/ltauxe/PmagPy) and adds new functions and modifies stand alone PmagPy programs for use in the interactive IPython environment. The pmag.py library is included in the IPmag.py repository as a very slightly modified version from that availible in the main PmagPy repository."
     ]
    },
    {
     "cell_type": "code",
     "collapsed": false,
     "input": [
      "import pmag, pmagplotlib, IPmag\n",
      "import numpy as np\n",
      "import matplotlib.pyplot as plt\n",
      "%matplotlib inline"
     ],
     "language": "python",
     "metadata": {},
     "outputs": [],
     "prompt_number": 1
    },
    {
     "cell_type": "heading",
     "level": 1,
     "metadata": {},
     "source": [
      "Examples of pmag.py and IPmag.py functions in action"
     ]
    },
    {
     "cell_type": "heading",
     "level": 2,
     "metadata": {},
     "source": [
      "Using the dipole equation to calculate latitude from paleomagnetic inclination and expected inclination from latitude (IPmag.inc_from_lat; IPmag.lat_from_inc)"
     ]
    },
    {
     "cell_type": "markdown",
     "metadata": {},
     "source": [
      "A geocentric axial dipole magnetic field leads to a simple relationship between inclination and paleolatitude given by the dipole equation: $$\\mathrm{tan}(inclination)=2\\mathrm{tan}(latitude)$$\n",
      "*IPmag.inc_from_lat* and *IPmag.lat_from_inc* are simple functions that give inclination for a given latitude or latitude for a given inclination using the dipole equation."
     ]
    },
    {
     "cell_type": "markdown",
     "metadata": {},
     "source": [
      "The functions can be used interactively to give a result for a specified value. For example, what is the predicted latitude of an inclination of 45\u00ba?"
     ]
    },
    {
     "cell_type": "code",
     "collapsed": false,
     "input": [
      "IPmag.lat_from_inc(45)"
     ],
     "language": "python",
     "metadata": {},
     "outputs": [
      {
       "metadata": {},
       "output_type": "pyout",
       "prompt_number": 2,
       "text": [
        "26.56505117707799"
       ]
      }
     ],
     "prompt_number": 2
    },
    {
     "cell_type": "markdown",
     "metadata": {},
     "source": [
      "The function can also take an array of numbers as an input. In the example below, the numpy linspace function is used to creat an array of paleolatitudes between 0\u00ba and 90\u00ba with 0.1\u00ba spacing. That array is than put into the IPmag.inc_from_lat function to return a corresponding array of inclinations predicted from those latitudes using the dipole formula. A simple plot is then generated of the paleolatitudes and corresponding inclinations for a 100% dipole field."
     ]
    },
    {
     "cell_type": "code",
     "collapsed": false,
     "input": [
      "paleolatitude=np.linspace(0,90,901)\n",
      "inclination=IPmag.inc_from_lat(paleolatitude)\n",
      "\n",
      "plt.plot(inclination,paleolatitude)\n",
      "plt.xlabel(\"inclination (degrees)\")\n",
      "plt.ylabel(\"paleolatitude (degrees)\")\n",
      "plt.title(\"Inclination as a function of latitude (100% dipole)\")\n",
      "plt.show()"
     ],
     "language": "python",
     "metadata": {},
     "outputs": [
      {
       "metadata": {},
       "output_type": "display_data",
       "png": "[encoded data removed]",
       "text": [
        "<matplotlib.figure.Figure at 0x10dbb8150>"
       ]
      }
     ],
     "prompt_number": 3
    },
    {
     "cell_type": "heading",
     "level": 2,
     "metadata": {},
     "source": [
      "Example of generating a Fisher distributed data set (IPmag.ifishrot) and plotting direction data (IPmag.iplotDI)"
     ]
    },
    {
     "cell_type": "markdown",
     "metadata": {},
     "source": [
      "In order to demonstrate plotting directional data, let's use the IPmag.ifishrot function to generate unit vectors that have a specified distribution. The ifishrot function can take four input parameters: \n",
      "- k kappa precision parameter (default is 20)\n",
      "- n number of vectors to determine (default is 100)\n",
      "- Dec mean declination of data set (default is 0)\n",
      "- Inc mean inclination of data set (default is 90)"
     ]
    },
    {
     "cell_type": "code",
     "collapsed": false,
     "input": [
      "data = IPmag.ifishrot(k=5,n=10,Dec=0,Inc=0)\n",
      "print data"
     ],
     "language": "python",
     "metadata": {},
     "outputs": [
      {
       "output_type": "stream",
       "stream": "stdout",
       "text": [
        "[[352.90077284825514, -8.1220235127830858, 1.0], [344.79902380189378, -31.87896737573881, 1.0], [297.07967092738363, -32.022684102519221, 1.0], [10.619983363004678, -32.75134747399764, 1.0], [57.220314511697666, 13.396992103837881, 1.0], [355.95858328538742, 1.2904036874907068, 1.0], [343.52104239757927, -25.725865761943748, 1.0], [329.67066953193637, 9.5216748224515424, 1.0], [8.9048181371949795, 11.998001065946967, 1.0], [325.78703700853976, -16.018498446082511, 1.0]]\n"
       ]
      }
     ],
     "prompt_number": 8
    },
    {
     "cell_type": "markdown",
     "metadata": {},
     "source": [
      "Let's plot these data using the IPmag.iplotDI function. To use this function we need to first initialize a figure, use the IPmag.iplotNET function to generate a blank equal area plot and then use the IPmag.iplotDI function to plot the data on an equal area plot. iplotDI takes the following inputs (all are optional other than the data themselves:\n",
      "- DIblock : a DIblock is comprise of a list of unit vectors [dec,inc,1.]\n",
      "- color : the default color is black. Other colors can be chosen (e.g. 'r')\n",
      "- marker : the default marker is a circle ('o')\n",
      "- label : the default label is blank ('')\n",
      "- legend : the default is no legend ('no'). Putting 'yes' will plot a legend."
     ]
    },
    {
     "cell_type": "code",
     "collapsed": false,
     "input": [
      "fignum = 1\n",
      "plt.figure(num=fignum,figsize=(8,8),dpi=160)\n",
      "IPmag.iplotNET(fignum)\n",
      "IPmag.iplotDI(data)"
     ],
     "language": "python",
     "metadata": {},
     "outputs": [
      {
       "metadata": {},
       "output_type": "display_data",
       "png": "[encoded data removed]",
       "text": [
        "<matplotlib.figure.Figure at 0x10db0ba90>"
       ]
      }
     ],
     "prompt_number": 9
    },
    {
     "cell_type": "code",
     "collapsed": false,
     "input": [
      "data2 = IPmag.ifishrot(k=40,n=100,Dec=0,Inc=-45)"
     ],
     "language": "python",
     "metadata": {},
     "outputs": [],
     "prompt_number": 10
    },
    {
     "cell_type": "code",
     "collapsed": false,
     "input": [
      "data2"
     ],
     "language": "python",
     "metadata": {},
     "outputs": [
      {
       "metadata": {},
       "output_type": "pyout",
       "prompt_number": 11,
       "text": [
        "[[359.82802250518813, -52.337652419198989, 1.0],\n",
        " [1.9490129794579047, -40.080197731219016, 1.0],\n",
        " [349.31022800610572, -43.864714125823546, 1.0],\n",
        " [20.899657073414005, -44.131554021105266, 1.0],\n",
        " [344.12332614325612, -28.136941194611175, 1.0],\n",
        " [12.725099661074864, -25.027507057270423, 1.0],\n",
        " [17.302510181428602, -39.055146304654158, 1.0],\n",
        " [356.22673372729605, -44.12051370065776, 1.0],\n",
        " [4.1502919243671386, -52.286739465463306, 1.0],\n",
        " [357.65562057405657, -38.278207372302191, 1.0],\n",
        " [341.28054465330843, -29.057062442073779, 1.0],\n",
        " [24.943458336888625, -36.406105132538187, 1.0],\n",
        " [3.4532151962787339, -46.003786670868045, 1.0],\n",
        " [28.40718690133383, -61.947071917662399, 1.0],\n",
        " [23.408147519712315, -40.589858094771046, 1.0],\n",
        " [354.93503480528278, -47.503586874796135, 1.0],\n",
        " [354.15394973689592, -24.612067904117488, 1.0],\n",
        " [6.061759147286125, -50.366200401666717, 1.0],\n",
        " [349.37717312422706, -43.268255007059075, 1.0],\n",
        " [16.780397132784856, -30.014887470109436, 1.0],\n",
        " [34.074057911240686, -59.301332855092696, 1.0],\n",
        " [9.2259446579196265, -25.606637682695069, 1.0],\n",
        " [8.5519289423341434, -40.882244942120209, 1.0],\n",
        " [342.53665609393886, -25.511247050775321, 1.0],\n",
        " [11.396419974883088, -61.039140345608949, 1.0],\n",
        " [9.8407140824882617, -48.979240269253161, 1.0],\n",
        " [353.34702079631165, -45.816345895546867, 1.0],\n",
        " [344.96860289417896, -28.578365655892931, 1.0],\n",
        " [338.43256657788322, -50.227669264039612, 1.0],\n",
        " [340.84621517430446, -44.474804589682932, 1.0],\n",
        " [12.048279132243806, -35.331415535514189, 1.0],\n",
        " [7.6515953152044176, -20.512920761748099, 1.0],\n",
        " [17.648905861083108, -30.54157973582759, 1.0],\n",
        " [16.010552321447278, -42.683264136776444, 1.0],\n",
        " [3.711176775156332, -38.45615058276077, 1.0],\n",
        " [12.012941165285042, -49.064837150818306, 1.0],\n",
        " [9.6554205716637966, -44.345307259239974, 1.0],\n",
        " [348.22528464949164, -59.458816886577289, 1.0],\n",
        " [357.36872196701563, -43.401618333208255, 1.0],\n",
        " [24.624973429507463, -45.045954063458552, 1.0],\n",
        " [21.426207135692664, -58.352176833260657, 1.0],\n",
        " [354.9340433939102, -43.151468283258801, 1.0],\n",
        " [17.518039361482693, -47.832101732948928, 1.0],\n",
        " [350.67850121360738, -48.396563577200254, 1.0],\n",
        " [8.2571741657242796, -61.106967376430205, 1.0],\n",
        " [13.429097091774622, -47.911023701656447, 1.0],\n",
        " [354.34361122948178, -51.058482558801799, 1.0],\n",
        " [12.514900185042336, -43.88615010769697, 1.0],\n",
        " [353.4316621828018, -47.34678020654691, 1.0],\n",
        " [5.6576954105885306, -43.960575242821925, 1.0],\n",
        " [11.257175193608305, -43.286978671661913, 1.0],\n",
        " [351.97132008841982, -44.816425978800652, 1.0],\n",
        " [353.49629270897532, -43.545748874398704, 1.0],\n",
        " [23.998021196191416, -42.024893242524968, 1.0],\n",
        " [28.002554526045515, -40.852967472733859, 1.0],\n",
        " [343.97491003638561, -46.45825223943104, 1.0],\n",
        " [356.18302359443931, -36.87421714945161, 1.0],\n",
        " [354.35946836766072, -47.703264559389957, 1.0],\n",
        " [1.939671525584572, -41.500641004647839, 1.0],\n",
        " [0.67583049757445224, -41.8444757666173, 1.0],\n",
        " [340.11968740149416, -41.269460895687175, 1.0],\n",
        " [359.58220252403487, -35.894377398143, 1.0],\n",
        " [16.397362835058061, -61.234461546112257, 1.0],\n",
        " [5.1137539815296691, -44.618957572796042, 1.0],\n",
        " [14.374529313296193, -56.322777703550187, 1.0],\n",
        " [348.93807613816352, -43.491911015616104, 1.0],\n",
        " [343.76031350905885, -49.318840188602842, 1.0],\n",
        " [353.83591864752094, -45.328199584869296, 1.0],\n",
        " [8.497061415830558, -36.731819354921569, 1.0],\n",
        " [8.186624220474414, -28.40666518842599, 1.0],\n",
        " [347.72053275297571, -48.886101493061979, 1.0],\n",
        " [338.37725890726364, -33.815742399402687, 1.0],\n",
        " [3.8290375911269621, -35.434108633870885, 1.0],\n",
        " [4.2997575877432723, -31.518777471711275, 1.0],\n",
        " [1.4356344177733718, -46.160135415186055, 1.0],\n",
        " [1.2362556434277394, -51.668808431299354, 1.0],\n",
        " [0.033504727821878078, -43.592511075598111, 1.0],\n",
        " [0.062085022415260482, -40.268568068499192, 1.0],\n",
        " [14.195483401595482, -38.301760501905513, 1.0],\n",
        " [17.643181831960078, -44.715613732435095, 1.0],\n",
        " [4.9301641160746499, -65.230613423214663, 1.0],\n",
        " [344.31611121937146, -39.47058508157037, 1.0],\n",
        " [356.99991624816812, -31.757333685034958, 1.0],\n",
        " [332.87752966879702, -48.133103317108414, 1.0],\n",
        " [7.8407505478674011, -39.178449051024124, 1.0],\n",
        " [1.7947608933549759, -41.385576438941378, 1.0],\n",
        " [350.05447554133411, -42.722896592658216, 1.0],\n",
        " [5.9611372795608304, -46.537961381442258, 1.0],\n",
        " [19.004075710677739, -46.140868601263101, 1.0],\n",
        " [356.67763744088415, -41.000655746078728, 1.0],\n",
        " [345.78863942010696, -36.134759146943253, 1.0],\n",
        " [352.6968793557885, -55.237278506660587, 1.0],\n",
        " [26.782291060930675, -53.442570803515167, 1.0],\n",
        " [353.29400591793507, -43.345634935327226, 1.0],\n",
        " [354.04386007304214, -42.792140041328985, 1.0],\n",
        " [3.1502087329826622, -59.558848299357756, 1.0],\n",
        " [342.47958487736253, -34.611930067736054, 1.0],\n",
        " [349.44804441485553, -54.619155069771843, 1.0],\n",
        " [357.0940421220954, -36.497202127886098, 1.0],\n",
        " [343.52252060434421, -49.929703767142982, 1.0]]"
       ]
      }
     ],
     "prompt_number": 11
    },
    {
     "cell_type": "code",
     "collapsed": false,
     "input": [
      "kappa=50\n",
      "direction=pmag.fshdev(kappa)\n",
      "direction\n",
      "\n",
      "IPmag.iflip(direction)"
     ],
     "language": "python",
     "metadata": {},
     "outputs": [
      {
       "ename": "TypeError",
       "evalue": "'float' object has no attribute '__getitem__'",
       "output_type": "pyerr",
       "traceback": [
        "\u001b[0;31m---------------------------------------------------------------------------\u001b[0m\n\u001b[0;31mTypeError\u001b[0m                                 Traceback (most recent call last)",
        "\u001b[0;32m<ipython-input-14-dfb5be4d79eb>\u001b[0m in \u001b[0;36m<module>\u001b[0;34m()\u001b[0m\n\u001b[1;32m      2\u001b[0m \u001b[0mdirection\u001b[0m\u001b[0;34m=\u001b[0m\u001b[0mpmag\u001b[0m\u001b[0;34m.\u001b[0m\u001b[0mfshdev\u001b[0m\u001b[0;34m(\u001b[0m\u001b[0mkappa\u001b[0m\u001b[0;34m)\u001b[0m\u001b[0;34m\u001b[0m\u001b[0m\n\u001b[1;32m      3\u001b[0m \u001b[0mdirection\u001b[0m\u001b[0;34m\u001b[0m\u001b[0m\n\u001b[0;32m----> 4\u001b[0;31m \u001b[0mIPmag\u001b[0m\u001b[0;34m.\u001b[0m\u001b[0miflip\u001b[0m\u001b[0;34m(\u001b[0m\u001b[0mdirection\u001b[0m\u001b[0;34m)\u001b[0m\u001b[0;34m\u001b[0m\u001b[0m\n\u001b[0m",
        "\u001b[0;32m/Users/polarwander/PmagPy_IPython/IPmag.py\u001b[0m in \u001b[0;36miflip\u001b[0;34m(D)\u001b[0m\n\u001b[1;32m     10\u001b[0m     \u001b[0mDflip\u001b[0m\u001b[0;34m=\u001b[0m\u001b[0;34m[\u001b[0m\u001b[0;34m]\u001b[0m\u001b[0;34m\u001b[0m\u001b[0m\n\u001b[1;32m     11\u001b[0m     \u001b[0;32mfor\u001b[0m \u001b[0mrec\u001b[0m \u001b[0;32min\u001b[0m \u001b[0mD\u001b[0m\u001b[0;34m:\u001b[0m\u001b[0;34m\u001b[0m\u001b[0m\n\u001b[0;32m---> 12\u001b[0;31m         \u001b[0md\u001b[0m\u001b[0;34m,\u001b[0m\u001b[0mi\u001b[0m\u001b[0;34m=\u001b[0m\u001b[0;34m(\u001b[0m\u001b[0mrec\u001b[0m\u001b[0;34m[\u001b[0m\u001b[0;36m0\u001b[0m\u001b[0;34m]\u001b[0m\u001b[0;34m-\u001b[0m\u001b[0;36m180.\u001b[0m\u001b[0;34m)\u001b[0m\u001b[0;34m%\u001b[0m\u001b[0;36m360.\u001b[0m\u001b[0;34m,\u001b[0m\u001b[0;34m-\u001b[0m\u001b[0mrec\u001b[0m\u001b[0;34m[\u001b[0m\u001b[0;36m1\u001b[0m\u001b[0;34m]\u001b[0m\u001b[0;34m\u001b[0m\u001b[0m\n\u001b[0m\u001b[1;32m     13\u001b[0m         \u001b[0mDflip\u001b[0m\u001b[0;34m.\u001b[0m\u001b[0mappend\u001b[0m\u001b[0;34m(\u001b[0m\u001b[0;34m[\u001b[0m\u001b[0md\u001b[0m\u001b[0;34m,\u001b[0m\u001b[0mi\u001b[0m\u001b[0;34m,\u001b[0m\u001b[0;36m1.\u001b[0m\u001b[0;34m]\u001b[0m\u001b[0;34m)\u001b[0m\u001b[0;34m\u001b[0m\u001b[0m\n\u001b[1;32m     14\u001b[0m     \u001b[0;32mreturn\u001b[0m \u001b[0mDflip\u001b[0m\u001b[0;34m\u001b[0m\u001b[0m\n",
        "\u001b[0;31mTypeError\u001b[0m: 'float' object has no attribute '__getitem__'"
       ]
      }
     ],
     "prompt_number": 14
    },
    {
     "cell_type": "code",
     "collapsed": false,
     "input": [
      "direction_reverse"
     ],
     "language": "python",
     "metadata": {},
     "outputs": [
      {
       "metadata": {},
       "output_type": "pyout",
       "prompt_number": 10,
       "text": [
        "[[120.0, -45, 1.0], [120.0, -50, 1.0]]"
       ]
      }
     ],
     "prompt_number": 10
    },
    {
     "cell_type": "code",
     "collapsed": false,
     "input": [],
     "language": "python",
     "metadata": {},
     "outputs": []
    }
   ],
   "metadata": {}
  }
 ]
}